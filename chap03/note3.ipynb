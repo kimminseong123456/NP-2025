{
 "cells": [
  {
   "cell_type": "markdown",
   "id": "7ead4538",
   "metadata": {},
   "source": [
    "# 3장 노트정리\n",
    "- 이름:김민성\n",
    "- 학번:202110163\n"
   ]
  },
  {
   "cell_type": "markdown",
   "id": "396e8a46",
   "metadata": {},
   "source": [
    "## 제어문: 프로그램의 실행 순서를 바꾸는 문장\n",
    "- 조건문\n",
    "  - if, if-else, if-elif-else\n",
    "- 반복문\n",
    "  - while\n",
    "  - for\n",
    "- 기타 제어문\n",
    "  - break\n",
    "  - continue"
   ]
  },
  {
   "cell_type": "markdown",
   "id": "d58073ef",
   "metadata": {},
   "source": [
    "# 조건문\n",
    "## 1. if 문 \n",
    "  - 조건을 만족할 때 정해진 문장 블록을 실행한다.\n",
    "     - if 문의 기본 구조\n",
    "        - 조건이 참이면: 다음의 블록 부분을 실행\n",
    "  - 조건이 참(True)이면 블록을 실행하고 아니면 블록을 건너뛴다.        "
   ]
  },
  {
   "cell_type": "code",
   "execution_count": 3,
   "id": "d14b26e4",
   "metadata": {},
   "outputs": [],
   "source": [
    "score = int(input(\"정수 입력:\"))\n",
    "if score >= 90:  # if문 끝에 :을 붙인다      점수가 90점 이상\n",
    "    print(\"성적 : A\")  # 들여쓰기                 장학금 수여\n",
    "    print(\"장학금 수여\")\n",
    "\n",
    "age_0 = 22\n",
    "age_1 = 18  # 18 < 나이 < 22 인지 검사\n",
    "age = int(input('your age? '))\n",
    "if age < age_0 and age > age_1:  # 복합 조건문\n",
    "    print(\"당신의 나이는 18~22세 사이입니다\")"
   ]
  },
  {
   "cell_type": "markdown",
   "id": "135d8fcc",
   "metadata": {},
   "source": [
    "## 2. if - else 문\n",
    "  ### if - else 문의 기본 구조"
   ]
  },
  {
   "cell_type": "markdown",
   "id": "81d402d7",
   "metadata": {},
   "source": [
    "## if - else 문의 기본 구조\n",
    "- 조건이 참(True)이면 Block1을 실행하고 else: 는 무시\n",
    "- 참(True)이 아니면 else: 다음 Block2를 실행"
   ]
  },
  {
   "cell_type": "code",
   "execution_count": null,
   "id": "e9a75c59",
   "metadata": {},
   "outputs": [],
   "source": [
    "if Condition(조건):\n",
    "    Blcok1(블록1)\n",
    "else:\n",
    "    Block2(블록2)"
   ]
  },
  {
   "cell_type": "markdown",
   "id": "900b482e",
   "metadata": {},
   "source": [
    "## 조건문 예제\n",
    "- 년도가 4로 나뉘어지고 100으로 나뉘어지지 않거나\n",
    "- 400으로 나뉘어지면 윤년이다."
   ]
  },
  {
   "cell_type": "code",
   "execution_count": null,
   "id": "2d91c19d",
   "metadata": {},
   "outputs": [],
   "source": [
    "year = int(input(\"Type a year :\"))\n",
    "if (year % 4 == 0 and year % 100 != 0) or (year % 400 == 0):\n",
    "    print(year, \"is a leap year\")\n",
    "else:\n",
    "    print(year, \"is not a leap year\")"
   ]
  },
  {
   "cell_type": "markdown",
   "id": "10435ef3",
   "metadata": {},
   "source": [
    "## 중첩 if 문 - if 문 속애 또 다른 if문"
   ]
  },
  {
   "cell_type": "code",
   "execution_count": null,
   "id": "77bb2c6b",
   "metadata": {},
   "outputs": [],
   "source": [
    "n = int(input(\"type int number : \"))\n",
    "if n > 0:\n",
    "    print(\"positive\")\n",
    "elif n < 0:\n",
    "    print(\"negative\")\n",
    "else:\n",
    "    print(\"0\")"
   ]
  },
  {
   "cell_type": "code",
   "execution_count": null,
   "id": "30e7d993",
   "metadata": {},
   "outputs": [],
   "source": [
    "n = int(input(\"type int number : \"))\n",
    "if n >= 0:\n",
    "    if n == 0:\n",
    "        print(\"0\")\n",
    "    else:\n",
    "        print(\"positive\")\n",
    "else:\n",
    "    print(\"negative\")"
   ]
  },
  {
   "cell_type": "markdown",
   "id": "892bda79",
   "metadata": {},
   "source": [
    "## if - elif - else 문\n",
    "- if 조건1이 참이면 블록1, if 조건1이 거짓이고 elif 조건2이 참이면 블록2, 조건이 모두 거짓이면 블록3이 실핸된다."
   ]
  },
  {
   "cell_type": "code",
   "execution_count": null,
   "id": "c7666132",
   "metadata": {},
   "outputs": [],
   "source": [
    "#if -elif- else 문의 기본 구조\n",
    "# if Condition1(조건1):\n",
    "#   Block1(블록1)\n",
    "# elif Condition2(조건2):\n",
    "#   Block2(블록2)\n",
    "# else:\n",
    "#   Block3(블록3)\n",
    "\n",
    "n = int(input(\"type int number : \"))\n",
    "if n > 0:\n",
    "    print(\"positive\")\n",
    "elif n < 0:\n",
    "    print(\"negative\")\n",
    "else:\n",
    "    print(\"0\")"
   ]
  },
  {
   "cell_type": "markdown",
   "id": "20b70b45",
   "metadata": {},
   "source": [
    "## 다중 elif 문\n",
    "- 여러 개의 elif를 사용한 문장\n",
    "- if 또는 elif 조건 중 하나만 충족되면 나머지는 무시"
   ]
  },
  {
   "cell_type": "code",
   "execution_count": null,
   "id": "769b95fb",
   "metadata": {},
   "outputs": [],
   "source": [
    "age = 12\n",
    "if age < 4:\n",
    "    price = 0\n",
    "elif age < 18:\n",
    "    price = 5\n",
    "elif age < 65:\n",
    "    price = 10\n",
    "else:\n",
    "    price = 5\n",
    "print(\"Your admission cost is $\" + str(price) + \".\")"
   ]
  },
  {
   "cell_type": "markdown",
   "id": "475b30a0",
   "metadata": {},
   "source": [
    "# 반복문 - 조건이 충족되면 동일한 일을 반복 수행\n",
    "## While 문\n",
    "- 조건이 만족되면 블록을 실행하고 다시 조건을 조사\n",
    "- 조건이 만족되지 않으면 다음 문장 실행"
   ]
  },
  {
   "cell_type": "code",
   "execution_count": null,
   "id": "8151b458",
   "metadata": {},
   "outputs": [],
   "source": [
    "# while 문의 기본 구조\n",
    "[초기화]\n",
    "while [조건] :\n",
    "    [블록]\n",
    "[다음문장]"
   ]
  },
  {
   "cell_type": "markdown",
   "id": "f49e76d3",
   "metadata": {},
   "source": [
    "## While 연습문제"
   ]
  },
  {
   "cell_type": "code",
   "execution_count": 7,
   "id": "3530f539",
   "metadata": {},
   "outputs": [
    {
     "name": "stdout",
     "output_type": "stream",
     "text": [
      "2진수: 100 # 변환 결과 저장\n"
     ]
    }
   ],
   "source": [
    "# 10진수를 입력 받아 2진수로 변환하여 출력하는 프로그램\n",
    "\n",
    "n = int(input('Number:'))\n",
    "result = \" # 변환 결과 저장\"\n",
    "\n",
    "# 10진수를 2로 나누어 몫이 0이 될 때까지 반복해서 나머지를 구한다.\n",
    "while n != 0:\n",
    "    m = n % 2 # 나머지\n",
    "    result = str(m) + result # 숫자를 문자열로 변환\n",
    "    n = n // 2 # 몫\n",
    "\n",
    "print(\"2진수:\", result)"
   ]
  },
  {
   "cell_type": "markdown",
   "id": "617f299b",
   "metadata": {},
   "source": [
    "# 반복문\n",
    "## for 문\n",
    "- [반복개체]의 각 요소의 값을 하나씩 [변수]에 저장하고 블록을 실행\n",
    "- [반복개체]에 더 이상의 요소가 없을 때까지 반복"
   ]
  },
  {
   "cell_type": "markdown",
   "id": "ca583eb8",
   "metadata": {},
   "source": [
    "## for-range 문\n",
    "- range() 함수는 반복 개체 (iterable)를 생성하는 함수\n",
    "    - range(start, stop, step)\n",
    "    - 에) list(range(1,5,1)) -> [1,2,3,4]\n",
    "- 변수 값을 start부터 시작하여 step 만큼 증가시키며 stop될 때까지 실행. step=1이면 생략"
   ]
  },
  {
   "cell_type": "code",
   "execution_count": null,
   "id": "80c866c1",
   "metadata": {},
   "outputs": [],
   "source": [
    "# for문의 기본 구조 : range() 함수를 사용할 때\n",
    "for [변수] int range(start, stop, step) :\n",
    "    [블록]"
   ]
  },
  {
   "cell_type": "code",
   "execution_count": null,
   "id": "ad17e128",
   "metadata": {},
   "outputs": [],
   "source": [
    "for i in range(1, 4, 1) : #1부터 시작하여 1씩 증가하여 4가 되면 종료\n",
    "print(\"Number\", i)\n",
    "Number 1\n",
    "Number 2\n",
    "Number 3"
   ]
  },
  {
   "cell_type": "markdown",
   "id": "65850fd8",
   "metadata": {},
   "source": [
    "## for 문을 이용한 1부터 100까지의 합 구하기\n"
   ]
  },
  {
   "cell_type": "code",
   "execution_count": null,
   "id": "a734e74e",
   "metadata": {},
   "outputs": [],
   "source": [
    "sum = 0\n",
    "for i in range(1, 101, 1):\n",
    "    sum = sum + i\n",
    "print(\"sum = \", sum)"
   ]
  },
  {
   "cell_type": "markdown",
   "id": "fc0c65eb",
   "metadata": {},
   "source": [
    "## x^n을 구하는 프로그램"
   ]
  },
  {
   "cell_type": "code",
   "execution_count": null,
   "id": "cf7c606d",
   "metadata": {},
   "outputs": [],
   "source": [
    "x = float(input('Type x : '))\n",
    "n = int(input('Type n : '))\n",
    "prod = 1\n",
    "for i in range(1, n+1):\n",
    "    prod = prod * x\n",
    "print(prod)"
   ]
  },
  {
   "cell_type": "markdown",
   "id": "c96e36b1",
   "metadata": {},
   "source": [
    "## 중첩 반복문\n",
    "- 내부 for 문이 먼저 실행되고 끝나면 외부 for 문이 실행됨\n",
    "- 구구단 프로그램"
   ]
  },
  {
   "cell_type": "code",
   "execution_count": null,
   "id": "b358f8f1",
   "metadata": {},
   "outputs": [],
   "source": [
    "for i in range(2, 10, 1):\n",
    "    for j in range(1, 10, 1):\n",
    "        print(\"%d x %d = %d\" % (i, j, i*j))"
   ]
  },
  {
   "cell_type": "markdown",
   "id": "3f8f4a85",
   "metadata": {},
   "source": [
    "## 무한 반복문\n",
    " - 무한 반복문을 중지하려면 ctrl-C를 누른다."
   ]
  },
  {
   "cell_type": "code",
   "execution_count": null,
   "id": "804c7ceb",
   "metadata": {},
   "outputs": [],
   "source": [
    "while True : #조건이 항상 참이다\n",
    "    print(\"last forever\")"
   ]
  },
  {
   "cell_type": "code",
   "execution_count": 8,
   "id": "85e85698",
   "metadata": {},
   "outputs": [
    {
     "name": "stdout",
     "output_type": "stream",
     "text": [
      "더 큽니다. 4 회 남았습니다.\n",
      "\n",
      "맞았습니다!\n"
     ]
    }
   ],
   "source": [
    "# 숫자 맞추기 게임 프로그램\n",
    "# 1~100 사이의 난수를 만들고 사용자가 1~100 사이의 수를 입력하여 맞추는 프로그램.\n",
    "# 5회까지 맞추지 못하면 종료\n",
    "\n",
    "from random import randint\n",
    "secret_num = randint(1, 100)\n",
    "num_guesses = 0  # 시도 회수\n",
    "guess = 0  # 예상 숫자\n",
    "\n",
    "while guess != secret_num and num_guesses < 5:\n",
    "    guess = int(input('Enter your guess (1-100): '))  # 수 입력\n",
    "    num_guesses = num_guesses + 1  # 시도 횟수 증가\n",
    "    if guess < secret_num:\n",
    "        print('더 큽니다.', 5 - num_guesses, '회 남았습니다.\\n')\n",
    "    elif guess > secret_num:\n",
    "        print('더 작습니다.', 5 - num_guesses, '회 남았습니다.\\n')\n",
    "    else:\n",
    "        print('맞았습니다!')\n",
    "\n",
    "if num_guesses == 5 and guess != secret_num:\n",
    "    print('당신이 졌습니다. 정답은', secret_num, '입니다')"
   ]
  },
  {
   "cell_type": "markdown",
   "id": "fbcb33eb",
   "metadata": {},
   "source": [
    "# 기타 제어문\n",
    "## break 문\n",
    " - 반복문을 빠져나올 때 사용"
   ]
  },
  {
   "cell_type": "code",
   "execution_count": null,
   "id": "1437865a",
   "metadata": {},
   "outputs": [],
   "source": [
    "n = 10\n",
    "while n >= -10:\n",
    "    if n == 0:\n",
    "        break  # n=0이면 while 블록을 빠져나온다\n",
    "    inv = 1.0 / n\n",
    "    print(inv)\n",
    "    n = n - 1"
   ]
  },
  {
   "cell_type": "markdown",
   "id": "54b38812",
   "metadata": {},
   "source": [
    "## countion 문\n",
    " - 블록의 나머지 부분을 생략하고 다시 while 조건 조사"
   ]
  },
  {
   "cell_type": "code",
   "execution_count": null,
   "id": "405eabe4",
   "metadata": {},
   "outputs": [],
   "source": [
    "n = 10\n",
    "while n >= -10:\n",
    "    if n == 0:\n",
    "        n = n - 1\n",
    "        continue  # n=0이면 while 블록의 나머지 부분을 건너 뛴다\n",
    "    inv = 1.0 / n\n",
    "    print(\"n = %d, inv(n) = %0.2f\" % (n, inv))\n",
    "    n = n - 1"
   ]
  },
  {
   "cell_type": "markdown",
   "id": "bdd40da3",
   "metadata": {},
   "source": [
    "## match"
   ]
  },
  {
   "cell_type": "code",
   "execution_count": 11,
   "id": "3bd1918f",
   "metadata": {},
   "outputs": [
    {
     "name": "stdout",
     "output_type": "stream",
     "text": [
      "기타 값입니다.\n"
     ]
    }
   ],
   "source": [
    "# match-case 문 예시\n",
    "value = 200\n",
    "match value:\n",
    "    case 1:\n",
    "        print(\"값은 1입니다.\")\n",
    "    case 2:\n",
    "        print(\"값은 2입니다.\")\n",
    "    case _:\n",
    "        print(\"기타 값입니다.\")\n",
    "\n",
    "def handle_status(status):\n",
    "    match status:\n",
    "        case 200:\n",
    "            return \"성공\"\n",
    "        case 404:\n",
    "            return \"페이지를 찾을 수 없음\"\n",
    "        case 500:\n",
    "            return \"서버 오류\"\n",
    "        case _:\n",
    "            return \"알 수 없는 상태\""
   ]
  }
 ],
 "metadata": {
  "kernelspec": {
   "display_name": "Python 3",
   "language": "python",
   "name": "python3"
  },
  "language_info": {
   "codemirror_mode": {
    "name": "ipython",
    "version": 3
   },
   "file_extension": ".py",
   "mimetype": "text/x-python",
   "name": "python",
   "nbconvert_exporter": "python",
   "pygments_lexer": "ipython3",
   "version": "3.13.7"
  }
 },
 "nbformat": 4,
 "nbformat_minor": 5
}
