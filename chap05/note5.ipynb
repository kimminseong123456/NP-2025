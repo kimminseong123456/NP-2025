{
 "cells": [
  {
   "cell_type": "markdown",
   "id": "c9baf065",
   "metadata": {},
   "source": [
    "# 5장 노트정리\n",
    "- 이름:김민성\n",
    "- 학번:202110163\n"
   ]
  },
  {
   "cell_type": "markdown",
   "id": "548e38f6",
   "metadata": {},
   "source": [
    "## 1) 함수 개요\n",
    "- **함수(Function)**: 이름을 붙여 반복 사용 가능한 코드 블록.\n",
    "- **목적**: 중복 제거, 복잡한 문제 분해, 재사용성/가독성/유지보수성 향상.\n",
    "- 파이썬 함수는 **일급 객체**로서 변수에 할당, 인자로 전달, 반환 가능.\n",
    "- **종류**: 내장 함수 / 사용자 정의 함수.\n"
   ]
  },
  {
   "cell_type": "markdown",
   "id": "e5ec3e8d",
   "metadata": {},
   "source": [
    "## 2) 함수 정의·호출 기본\n",
    "아래 예시는 간단한 환영 메시지를 출력하는 함수입니다.\n"
   ]
  },
  {
   "cell_type": "code",
   "execution_count": null,
   "id": "d7c43d7f",
   "metadata": {},
   "outputs": [],
   "source": [
    "def welcome(name):\n",
    "    print(\"Hello,\", name)\n",
    "\n",
    "welcome('John')"
   ]
  },
  {
   "cell_type": "markdown",
   "id": "8bfbd37d",
   "metadata": {},
   "source": [
    "## 3) 반환(Return)\n",
    "- 반환값 없는 함수: `return` 생략 가능(암묵적 `None`).\n",
    "- 값 반환 함수: 계산 후 `return result`.\n",
    "\n",
    "아래 예시는 정사각형 넓이를 계산해 반환합니다.\n"
   ]
  },
  {
   "cell_type": "code",
   "execution_count": null,
   "id": "9adecad3",
   "metadata": {},
   "outputs": [],
   "source": [
    "def square_area(s):\n",
    "    return s * s\n",
    "\n",
    "print(square_area(5))  # 25"
   ]
  },
  {
   "cell_type": "markdown",
   "id": "9bfefe33",
   "metadata": {},
   "source": [
    "## 5) 변수 스코프\n",
    "- **지역 변수**: 함수 내부에서만 유효.\n",
    "\n",
    "- **전역 변수**: 모듈 전체에서 유효.\n",
    "\n",
    "- 이름이 같으면 **지역 변수가 우선**.\n",
    "\n",
    "- 함수 내부에서 전역을 수정하려면 `global v` 선언 필요.\n"
   ]
  },
  {
   "cell_type": "code",
   "execution_count": null,
   "id": "e7924900",
   "metadata": {},
   "outputs": [],
   "source": [
    "x = 10  # 전역 변수\n",
    "\n",
    "def demo_scope():\n",
    "    x = 99  # 지역 변수(전역과 동일 이름)\n",
    "    print(\"함수 내부 x =\", x)\n",
    "\n",
    "demo_scope()\n",
    "print(\"함수 외부 x =\", x)\n",
    "\n",
    "def modify_global():\n",
    "    global x\n",
    "    x = 42\n",
    "\n",
    "modify_global()\n",
    "print(\"전역 x 수정 후 =\", x)"
   ]
  },
  {
   "cell_type": "markdown",
   "id": "52849963",
   "metadata": {},
   "source": [
    "## 6) 매개변수 전달\n",
    "- **기본값 매개변수**: `def f(a, b=1)` (필수 인자는 항상 앞쪽).\n",
    "\n",
    "- **가변 인자**\n",
    "\n",
    "  - 위치 가변: `*args` → 튜플로 전달.\n",
    "\n",
    "  - 키워드 가변: `**kwargs` → 딕셔너리로 전달.\n",
    "\n",
    "- **키워드 인자**: 위치 대신 `f(c=7)`처럼 이름으로 지정 가능.\n"
   ]
  },
  {
   "cell_type": "code",
   "execution_count": null,
   "id": "af4af785",
   "metadata": {},
   "outputs": [],
   "source": [
    "def total(*numbers):\n",
    "    s = 0\n",
    "    for n in numbers:\n",
    "        s += n\n",
    "    return s\n",
    "\n",
    "print(total(1,2,3,4))  # 10\n",
    "\n",
    "def show_info(**kwargs):\n",
    "    for k, v in kwargs.items():\n",
    "        print(f\"{k} = {v}\")\n",
    "\n",
    "show_info(country=\"KR\", lang=\"Python\")\n",
    "\n",
    "def mix(a, b=2, *, c=3):  # 키워드 전용 인자 예시\n",
    "    return a + b + c\n",
    "\n",
    "print(mix(1))          # 1+2+3 = 6\n",
    "print(mix(1, c=10))    # 1+2+10 = 13"
   ]
  },
  {
   "cell_type": "markdown",
   "id": "1e988268",
   "metadata": {},
   "source": [
    "## 7) 람다(lambda)\n",
    "- **이름 없는 1줄 함수**: `lambda x, y: x + y`\n",
    "\n",
    "- 여러 값 반환은 튜플/리스트 사용: `lambda x, y: (x+y, x*y)`\n"
   ]
  },
  {
   "cell_type": "code",
   "execution_count": null,
   "id": "e0ada51c",
   "metadata": {},
   "outputs": [],
   "source": [
    "add = lambda x, y: x + y\n",
    "sum_val, prod_val = (lambda x, y: (x + y, x * y))(3, 4)\n",
    "print(add(2,5), sum_val, prod_val)"
   ]
  },
  {
   "cell_type": "markdown",
   "id": "43884109",
   "metadata": {},
   "source": [
    "## 8) 재귀 함수\n",
    "- 자기 자신을 호출하는 함수. **종료 조건 필수**.\n"
   ]
  },
  {
   "cell_type": "code",
   "execution_count": null,
   "id": "4406f8e2",
   "metadata": {},
   "outputs": [],
   "source": [
    "def fact(n):\n",
    "    if n <= 1:\n",
    "        return 1\n",
    "    return n * fact(n - 1)\n",
    "\n",
    "print(fact(5))  # 120"
   ]
  },
  {
   "cell_type": "markdown",
   "id": "29e7e2c2",
   "metadata": {},
   "source": [
    "## 10) 내장 함수 모음 (샘플)\n",
    "- `eval(expr)`: 문자열 수식 평가.\n",
    "- `int(str, base=10)`: 진수 변환.\n",
    "- `filter(func, seq)`: 조건 True 요소만.\n",
    "- `map(func, seq, ...)`: 각 요소에 함수 적용.\n",
    "- `ord(ch)` / `chr(i)`: 문자↔코드(유니코드).\n",
    "- `repr(obj)`: 객체의 표현 문자열.\n",
    "- `round(x, n=0)`: 반올림.\n",
    "- `zip(*seqs)`: 병렬 튜플 묶기.\n"
   ]
  },
  {
   "cell_type": "code",
   "execution_count": null,
   "id": "c2114644",
   "metadata": {},
   "outputs": [],
   "source": [
    "print(int('1010', 2))            # 10\n",
    "print(list(map(lambda x: x*2, [1,2,3])))  # [2,4,6]\n",
    "print(list(filter(lambda x: x%2==0, range(6))))  # [0,2,4]\n",
    "print(ord('A'), chr(65))          # 65 A\n",
    "print(repr({'a': 1}))             # {'a': 1}\n",
    "print(round(3.14159, 2))          # 3.14\n",
    "print(list(zip([1,2,3], ['a','b','c'])))"
   ]
  },
  {
   "cell_type": "markdown",
   "id": "5b3d4443",
   "metadata": {},
   "source": [
    "## 11) 타입 힌트 개요\n",
    "파이썬은 기본적으로 **동적 타입**이지만, **타입 힌트**로 가독성과 유지보수성을 높일 수 있습니다.\n",
    "정적 분석 도구(예: `mypy`)와 함께 사용하면 버그 예방에 도움이 됩니다.\n"
   ]
  },
  {
   "cell_type": "code",
   "execution_count": null,
   "id": "b0423a0d",
   "metadata": {},
   "outputs": [],
   "source": [
    "from typing import List, Tuple\n",
    "\n",
    "def add(a: int, b: int) -> int:\n",
    "    return a + b\n",
    "\n",
    "def greet(name: str) -> str:\n",
    "    return f\"Hello, {name}!\"\n",
    "\n",
    "def get_list() -> List[int]:\n",
    "    return [1, 2, 3]\n",
    "\n",
    "print(add(2,3), greet(\"Alice\"), get_list())"
   ]
  }
 ],
 "metadata": {
  "language_info": {
   "name": "python"
  }
 },
 "nbformat": 4,
 "nbformat_minor": 5
}
