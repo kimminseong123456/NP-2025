{
 "cells": [
  {
   "cell_type": "markdown",
   "id": "b32faf7b",
   "metadata": {},
   "source": [
    "# 5장 노트정리\n",
    "- 이름:김민성\n",
    "- 학번:202110163\n"
   ]
  },
  {
   "cell_type": "markdown",
   "id": "3b55eaf8",
   "metadata": {},
   "source": [
    "### 함수\n",
    "# 함수란?\n",
    "- 이름을 붙여 반복적으로 사용할 수 있는 프로그램 부분\n",
    "- print(), input(), int(), str() 등\n",
    "# 함수를 사용하는 이유\n",
    "- 프로그램 안에서 중복된 코드를 제거한다.\n",
    "- 복잡한 프로그래밍 작업을 더 간단한 작업들로 분해할 수 있다.\n",
    "- 함수는 한번 만들어지면 다른 프로그램에서도 재사용될 수 있다.\n",
    "- 함수를 사용하면 가독성(프로그램의 이해)이 증대되고, 유지 관리도 쉬워진다.\n",
    "# 파이썬의 함수는 일급 함수이다. 함수를 변수처럼 사용\n",
    "- 변수에 할당:a = func\n",
    "- 다른 함수의 인자로 전달 가능:func1(func)\n",
    "- return 문으로 반환 가능 : return func\n",
    "# 함수의 종류\n",
    "- 내장 함수\n",
    "- 사용자 정의 함수"
   ]
  },
  {
   "cell_type": "markdown",
   "id": "e66bd62b",
   "metadata": {},
   "source": [
    "## 함수의 정의와 호출\n",
    "# 사용자 정의 함수의 작성\n"
   ]
  }
 ],
 "metadata": {
  "language_info": {
   "name": "python"
  }
 },
 "nbformat": 4,
 "nbformat_minor": 5
}
