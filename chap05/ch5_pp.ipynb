{
 "cells": [
  {
   "cell_type": "code",
   "execution_count": 9,
   "id": "b0e7694d",
   "metadata": {},
   "outputs": [
    {
     "name": "stdout",
     "output_type": "stream",
     "text": [
      "**\n",
      "**\n",
      "**\n",
      "**\n"
     ]
    }
   ],
   "source": [
    "# 두 개의 매개변수 n, m을 전달받아 m * n개의 * 상자를 출력하는 함수\n",
    "def print_box(n, m):\n",
    "    for i in range(m):\n",
    "        print('*' * n)\n",
    "\n",
    "# 예시 호출\n",
    "print_box(2, 4)  # 5개의 *가 3줄 출력됨"
   ]
  },
  {
   "cell_type": "code",
   "execution_count": 15,
   "id": "634bce1c",
   "metadata": {},
   "outputs": [
    {
     "name": "stdout",
     "output_type": "stream",
     "text": [
      "6\n"
     ]
    }
   ],
   "source": [
    "# 하나의 숫자를 전달받아 숫자의 자리 합을 구하는 함수\n",
    "def sumofDigits(n):\n",
    "    total = 0\n",
    "    for i in str(n):\n",
    "        total += int(i)\n",
    "    return total\n",
    "\n",
    "print(sumofDigits(123))"
   ]
  },
  {
   "cell_type": "code",
   "execution_count": 18,
   "id": "0dc0aff0",
   "metadata": {},
   "outputs": [
    {
     "name": "stdout",
     "output_type": "stream",
     "text": [
      "-1\n",
      "4\n"
     ]
    }
   ],
   "source": [
    "# 두 개의 문자열이 서로 다른 처음 위치를 반환하는 함수를 작성. 두 개의 문자열이 같으면 -1을 반환\n",
    "\n",
    "def fristdiff(s1,s2):\n",
    "    min_len = min(len(s1), len(s2))\n",
    "    for i in range(min_len):\n",
    "        if s1[i] != s2[i]:\n",
    "            return i\n",
    "    if len(s1) != len(s2):\n",
    "        return min_len\n",
    "    return -1\n",
    "\n",
    "print(fristdiff(\"asdasd\", \"asdasd\"))\n",
    "print(fristdiff(\"asdasd\", \"asda\"))\n"
   ]
  },
  {
   "cell_type": "code",
   "execution_count": 19,
   "id": "c3d78c00",
   "metadata": {},
   "outputs": [],
   "source": [
    "# 숫자를 전달받아 그 수의 약수를 리스트로 반환하는 함수를 작성\n",
    "\n",
    "def divisor(n):\n",
    "    divs = []\n",
    "    for i in range(1, n + 1):\n",
    "        if n % i == 0:\n",
    "            divs.append(i)\n",
    "    return divs"
   ]
  },
  {
   "cell_type": "code",
   "execution_count": 7,
   "id": "deaf6a65",
   "metadata": {},
   "outputs": [
    {
     "name": "stdout",
     "output_type": "stream",
     "text": [
      "[1, 4, 7]\n"
     ]
    }
   ],
   "source": [
    "# 문자열과 하나의 문자를 전달받아 문자열에서 문자의 위츠를 모두 찾아 리스트로 변환하는 함수를 작성\n",
    "def findall(s, ch):\n",
    "    indices = []\n",
    "    for i in range(len(s)):\n",
    "        if s[i] == ch:\n",
    "            indices.append(i)\n",
    "    return indices  \n",
    "print(findall(\"asdasdasd\", \"s\"))"
   ]
  },
  {
   "cell_type": "code",
   "execution_count": 2,
   "id": "1708514a",
   "metadata": {},
   "outputs": [
    {
     "name": "stdout",
     "output_type": "stream",
     "text": [
      "5050\n"
     ]
    }
   ],
   "source": [
    "# 재귀 함수를 이용하여 1부터 100까지의 합을 계산하는 프로그램\n",
    "def recursive_sum(n):\n",
    "    if n == 1:\n",
    "        return 1\n",
    "    else:\n",
    "        return n + recursive_sum(n - 1)\n",
    "print(recursive_sum(100))\n",
    " "
   ]
  }
 ],
 "metadata": {
  "kernelspec": {
   "display_name": "Python 3",
   "language": "python",
   "name": "python3"
  },
  "language_info": {
   "codemirror_mode": {
    "name": "ipython",
    "version": 3
   },
   "file_extension": ".py",
   "mimetype": "text/x-python",
   "name": "python",
   "nbconvert_exporter": "python",
   "pygments_lexer": "ipython3",
   "version": "3.13.7"
  }
 },
 "nbformat": 4,
 "nbformat_minor": 5
}
