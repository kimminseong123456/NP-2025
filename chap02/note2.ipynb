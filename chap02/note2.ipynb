{
  "cells": [
    {
      "cell_type": "markdown",
      "id": "a546bb2e",
      "metadata": {},
      "source": [
        "# 2장 노트 정리\n",
        "- 이름: 김민성\n",
        "- 학번: 202110163\n"
      ]
    },
    {
      "cell_type": "markdown",
      "id": "cf4dd79f",
      "metadata": {},
      "source": [
        "## 1. 기본 입출력 함수\n",
        "### 1-1. print()\n",
        "- 값/식/변수를 화면에 출력\n",
        "- 여러 값을 쉼표로 나열하면 공백으로 구분되어 출력됩니다."
      ]
    },
    {
      "cell_type": "code",
      "execution_count": null,
      "id": "196f69ae",
      "metadata": {},
      "outputs": [],
      "source": [
        "print(10 + 20)\n",
        "print(\"동양미래대학교\")\n",
        "print(\"abc \" * 3)\n",
        "x, y = 25, 32\n",
        "z = x + y\n",
        "print(x, y)\n",
        "print(x, \"+\", y, \"=\", z)"
      ]
    },
    {
      "cell_type": "markdown",
      "id": "4717201d",
      "metadata": {},
      "source": [
        "### 1-2. print() 서식 지정\n",
        "- %d, %.1f 등의 C-스타일 서식이나, f-string을 사용할 수 있습니다."
      ]
    },
    {
      "cell_type": "code",
      "execution_count": null,
      "id": "ac5fff7f",
      "metadata": {},
      "outputs": [],
      "source": [
        "n = 10\n",
        "m = 5.2\n",
        "print(\"n=%d\" % n)\n",
        "print(\"m=%.1f, n=%d\" % (m, n))\n",
        "print(f\"m={m:.1f}, n={n}\")"
      ]
    },
    {
      "cell_type": "markdown",
      "id": "8c96e14e",
      "metadata": {},
      "source": [
        "### 1-3. input()\n",
        "- 항상 문자열로 입력되므로, 정수/실수 변환이 필요하면 int(), float() 사용"
      ]
    },
    {
      "cell_type": "code",
      "execution_count": null,
      "id": "98217410",
      "metadata": {},
      "outputs": [],
      "source": [
        "n = input(\"type a number: \")  # 문자열로 입력됨\n",
        "print(n, type(n))\n",
        "print(int(n), float(n), str(3))"
      ]
    },
    {
      "cell_type": "markdown",
      "id": "f18542d2",
      "metadata": {},
      "source": [
        "## 2. 기본 자료형\n",
        "### 2-1. 부울형(Boolean)"
      ]
    },
    {
      "cell_type": "code",
      "execution_count": null,
      "id": "6db82ce4",
      "metadata": {},
      "outputs": [],
      "source": [
        "aVar, bVar = True, False\n",
        "print(type(aVar), aVar)\n",
        "print(1 < 2, 3 > 5)"
      ]
    },
    {
      "cell_type": "markdown",
      "id": "b631da47",
      "metadata": {},
      "source": [
        "### 2-2. 정수(Integer)"
      ]
    },
    {
      "cell_type": "code",
      "execution_count": null,
      "id": "2c876bcb",
      "metadata": {},
      "outputs": [],
      "source": [
        "i = 5\n",
        "print(type(i), i)\n",
        "\n",
        "print(0b1010, 0o17, 0xFF)"
      ]
    },
    {
      "cell_type": "markdown",
      "id": "149d522e",
      "metadata": {},
      "source": [
        "### 2-3. 실수(Float)"
      ]
    },
    {
      "cell_type": "code",
      "execution_count": null,
      "id": "4f581d4e",
      "metadata": {},
      "outputs": [],
      "source": [
        "f = 1.0\n",
        "print(type(f), f)\n",
        "\n",
        "print(1., 1e0, 1.0e2)\n",
        "print(100_000.000_0001)"
      ]
    },
    {
      "cell_type": "markdown",
      "id": "b6842aa0",
      "metadata": {},
      "source": [
        "### 2-4. 문자열(String)"
      ]
    },
    {
      "cell_type": "code",
      "execution_count": null,
      "id": "570a4d90",
      "metadata": {},
      "outputs": [],
      "source": [
        "s1 = \"This is a string\"\n",
        "s2 = 'I\"m a Python fanatic'\n",
        "print(s1)\n",
        "print(s2)"
      ]
    },
    {
      "cell_type": "markdown",
      "id": "f6df74ec",
      "metadata": {},
      "source": [
        "## 3. 연산자\n",
        "### 3-1. 지정(할당), 산술 연산자"
      ]
    },
    {
      "cell_type": "code",
      "execution_count": null,
      "id": "e82e4f87",
      "metadata": {},
      "outputs": [],
      "source": [
        "a, b = 10, 3\n",
        "print(\"a+b=\", a+b)\n",
        "print(\"a-b=\", a-b)\n",
        "print(\"a*b=\", a*b)\n",
        "print(\"a/b=\", a/b)\n",
        "print(\"a//b=\", a//b)\n",
        "print(\"a%b=\", a%b)\n",
        "print(\"a**2=\", a**2)"
      ]
    },
    {
      "cell_type": "markdown",
      "id": "083c6143",
      "metadata": {},
      "source": [
        "### 3-2. 관계 연산자"
      ]
    },
    {
      "cell_type": "code",
      "execution_count": null,
      "id": "d8e7c0e2",
      "metadata": {},
      "outputs": [],
      "source": [
        "score = 95\n",
        "print(score >= 90)\n",
        "print(score < 80)\n",
        "print(score == 90)\n",
        "print(score != 80)"
      ]
    },
    {
      "cell_type": "markdown",
      "id": "79056bc6",
      "metadata": {},
      "source": [
        "### 3-3. 논리 연산자"
      ]
    },
    {
      "cell_type": "code",
      "execution_count": null,
      "id": "25c9faaf",
      "metadata": {},
      "outputs": [],
      "source": [
        "exam, report = 85, 85\n",
        "print(exam >= 80 and report >= 80)\n",
        "print(exam >= 90 or report >= 90)\n",
        "print(not (exam < 90))"
      ]
    },
    {
      "cell_type": "markdown",
      "id": "a4848f35",
      "metadata": {},
      "source": [
        "### 3-4. 멤버/식별 연산자"
      ]
    },
    {
      "cell_type": "code",
      "execution_count": null,
      "id": "e20243f9",
      "metadata": {},
      "outputs": [],
      "source": [
        "print('py' in 'python')\n",
        "print('ty' not in 'python')\n",
        "a = 2\n",
        "b = 2\n",
        "print(id(a) == id(b), a is b, a is not b)"
      ]
    },
    {
      "cell_type": "markdown",
      "id": "9cccf300",
      "metadata": {},
      "source": [
        "## 4. 연산 오류 예시와 해결\n",
        "- 문자열과 정수를 +로 결합 시 TypeError 발생 → 형 변환 필요"
      ]
    },
    {
      "cell_type": "code",
      "execution_count": null,
      "id": "0e66e64b",
      "metadata": {},
      "outputs": [],
      "source": [
        "age = 23\n",
        "message = \"Happy \" + str(age) + \"rd Birthday!\"\n",
        "print(message)"
      ]
    }
  ],
  "metadata": {
    "kernelspec": {
      "display_name": "Python 3",
      "language": "python",
      "name": "python3"
    },
    "language_info": {
      "name": "python",
      "version": "3.x"
    }
  },
  "nbformat": 4,
  "nbformat_minor": 5
}
