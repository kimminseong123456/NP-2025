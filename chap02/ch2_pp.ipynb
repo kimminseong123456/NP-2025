{
 "cells": [
  {
   "cell_type": "markdown",
   "id": "b31c0fa9",
   "metadata": {},
   "source": [
    "- 2장 연습문제\n",
    "- 이름: 김민성\n",
    "- 학번: 202110163\n"
   ]
  },
  {
   "cell_type": "markdown",
   "id": "540501a2",
   "metadata": {},
   "source": [
    "### 기본 입출력 연습문제"
   ]
  },
  {
   "cell_type": "code",
   "execution_count": 1,
   "id": "71c30fec",
   "metadata": {},
   "outputs": [
    {
     "name": "stdout",
     "output_type": "stream",
     "text": [
      "곱: 2.0\n"
     ]
    }
   ],
   "source": [
    "# 키보드에서 임의의 두 실수를 입력 받아 곱한 후 그 결과를 출력하는 프로그램을 작성하고 실행하라\n",
    "\n",
    "a = float(input(\"실수 a: \"))\n",
    "b = float(input(\"실수 b: \"))\n",
    "print(\"곱:\", a * b)"
   ]
  },
  {
   "cell_type": "code",
   "execution_count": 2,
   "id": "187ed518",
   "metadata": {},
   "outputs": [
    {
     "name": "stdout",
     "output_type": "stream",
     "text": [
      "2 mile = 3.218 km\n"
     ]
    }
   ],
   "source": [
    "# 1마일은 1.609km이다. 키보드에서 마일(정수)을 입력 받아 km로 변환해 출력하는 프로그램을작성하고 실행하라\n",
    "\n",
    "mile = int(input(\"마일(정수): \"))\n",
    "km = mile * 1.609\n",
    "print(f\"{mile} mile = {km} km\")"
   ]
  },
  {
   "cell_type": "code",
   "execution_count": 3,
   "id": "e0017b63",
   "metadata": {},
   "outputs": [
    {
     "name": "stdout",
     "output_type": "stream",
     "text": [
      "둘레: 87.96459430051421\n",
      "면적: 615.7521601035994\n"
     ]
    }
   ],
   "source": [
    "# 원의 반지름을 입력 받아 원의 둘레와 원의 면적을 출력하는 프로그램을 작성하라\n",
    "\n",
    "import math\n",
    "r = float(input(\"반지름: \"))\n",
    "circumference = 2 * math.pi * r\n",
    "area = math.pi * r**2\n",
    "print(\"둘레:\", circumference)\n",
    "print(\"면적:\", area)"
   ]
  },
  {
   "cell_type": "markdown",
   "id": "5e1b626c",
   "metadata": {},
   "source": [
    "### 산술 및 관계 연산자 연습문제"
   ]
  },
  {
   "cell_type": "code",
   "execution_count": null,
   "id": "b53d0c47",
   "metadata": {},
   "outputs": [
    {
     "name": "stdout",
     "output_type": "stream",
     "text": [
      "8\n",
      "4\n",
      "2.0\n",
      "2 2\n",
      "32\n",
      "True\n",
      "helloworld\n",
      "False\n",
      "True\n",
      "True\n"
     ]
    }
   ],
   "source": [
    "# 1)5와 3을 더한 값을 출력하는 프로그램을 작성하라\n",
    "print(5 + 3)\n",
    "\n",
    "# 2)7에서 3을 뺀 값을 출력하는 프로그램을 작성하라.\n",
    "print(7 - 3)\n",
    "\n",
    "# 3)4를 2로 나눈 값을 출력하는 프로그램을 작성하라.\n",
    "print(4 / 2)\n",
    "\n",
    "# 4) 8을 3으로 나눈 몫과 나머지를 출력하는 프로그램을 작성하라\n",
    "print(8 // 3, 8 % 3)\n",
    "\n",
    "# 5)2의 5제곱을 출력하는 프로그램을 작성하라.\n",
    "print(2**5)\n",
    "\n",
    "# 6) 입력된 정수가 10보다 크고 20보다 작은지 검사하는 프로그램을 작성하라.\n",
    "n = 15\n",
    "print(10 < n < 20)\n",
    "\n",
    "# 7) 문자열 \"hello\"와 문자열 \"world\"를 이어 붙인 결과를 출력하는 프로그램을 작성하라.\n",
    "print(\"hello\" + \"world\")\n",
    "\n",
    "# 8) 7을 2로 나눈 결과가 3보다 작은지 검사하는 프로그램을 작성하라\n",
    "print(7/2 < 3)\n",
    "\n",
    "# 9) 변수 x의 값이 5와 같지 않은지 검사하는 프로그램을 작성하라.\n",
    "x = 4\n",
    "print(x != 5)\n",
    "\n",
    "# 10). 변수 y의 값이 10에서 20 사이의 값인지 검사하는 프로그램을 작성하라\n",
    "y = 18\n",
    "print(10 <= y <= 20)"
   ]
  },
  {
   "cell_type": "markdown",
   "id": "e3e70eaa",
   "metadata": {},
   "source": [
    "### 논리 연산자 연습문제"
   ]
  },
  {
   "cell_type": "code",
   "execution_count": null,
   "id": "72ea46f2",
   "metadata": {},
   "outputs": [
    {
     "name": "stdout",
     "output_type": "stream",
     "text": [
      "True\n",
      "True\n",
      "True\n",
      "True\n",
      "True\n"
     ]
    }
   ],
   "source": [
    "# 1) 5가 3보다 크고 7보다 작은지 검사하는 프로그램을 작성하라.\n",
    "print(5 > 3 and 5 < 7)\n",
    "\n",
    "# 2) 변수 x가 10 이상이고 20 이하인지 검사하는 프로그램을 작성하라.\n",
    "x = 15\n",
    "print(10 <= x <= 20)\n",
    "\n",
    "# 3) 변수 y가 5의 배수이거나 7의 배수인지 검사하는 프로그램을 작성하라.\n",
    "y = 35\n",
    "print(y % 5 == 0 or y % 7 == 0)\n",
    "\n",
    "# 4) 변수 z가 양수이면서 짝수인지 검사하는 프로그램을 작성하라.\n",
    "z = 8\n",
    "print(z > 0 and z % 2 == 0)\n",
    "\n",
    "# 5) 변수 a가 문자열 \"hello\"나 문자열 \"world\" 중 하나인지 검사하는 프로그램을 작성하라.\n",
    "a = \"hello\"\n",
    "print(a == \"hello\" or a == \"world\")"
   ]
  },
  {
   "cell_type": "markdown",
   "id": "6d7c41f0",
   "metadata": {},
   "source": [
    "### 맴버 연산자 연습문제1"
   ]
  },
  {
   "cell_type": "code",
   "execution_count": null,
   "id": "2fb74d0f",
   "metadata": {},
   "outputs": [
    {
     "name": "stdout",
     "output_type": "stream",
     "text": [
      "False\n",
      "False\n",
      "False\n",
      "True\n",
      "True\n"
     ]
    }
   ],
   "source": [
    "# 1)숫자 7이 리스트 [1, 2, 3, 4, 5]에 포함되어 있는지 검사하는 프로그램을 작성하라.\n",
    "print(7 in [1,2,3,4,5])\n",
    "\n",
    "# 2)문자열 \"apple\"이 세트 {\"orange\", \"banana\", \"kiwi\"}에 포함되어 있는지 검사하는 프로그램을 작성하라.\n",
    "print(\"apple\" in {\"orange\",\"banana\",\"kiwi\"})\n",
    "\n",
    "# 3) 숫자 6이 딕셔너리 {\"a\": 1, \"b\": 2, \"c\": 3, \"d\": 4}의 값들 중 하나인지 검사하는 프로그램을작성하라.\n",
    "print(6 in {\"a\":1,\"b\":2,\"c\":3,\"d\":4}.values())\n",
    "\n",
    "# 4)문자열 \"cat\"이 튜플 (\"dog\", \"cat\", \"bird\", \"hamster\")에 포함되어 있는지 검사하는 프로그램을 작성하라.\n",
    "print(\"cat\" in (\"dog\",\"cat\",\"bird\",\"hamster\"))\n",
    "\n",
    "# 5) 숫자 10이 세트 {2, 4, 6, 8, 10}에 포함되어 있는지 검사하는 프로그램을 작성하라.\n",
    "print(10 in {2,4,6,8,10})\n",
    "\n"
   ]
  },
  {
   "cell_type": "markdown",
   "id": "e09c1ff1",
   "metadata": {},
   "source": [
    "### 맴버 연산자 연습문제2"
   ]
  },
  {
   "cell_type": "code",
   "execution_count": 14,
   "id": "f0aec626",
   "metadata": {},
   "outputs": [
    {
     "name": "stdout",
     "output_type": "stream",
     "text": [
      "0분 1초\n"
     ]
    }
   ],
   "source": [
    "# 1) 초를 입력하면 분과 초로 표시하는 프로그램. 예를 들어, 200초를 입력하면 3분 20초로 표현하라\n",
    "total = int(input(\"초: \"))\n",
    "m, s = divmod(total, 60)\n",
    "print(f\"{m}분 {s}초\")"
   ]
  },
  {
   "cell_type": "code",
   "execution_count": 15,
   "id": "e1dbd1f8",
   "metadata": {},
   "outputs": [
    {
     "name": "stdout",
     "output_type": "stream",
     "text": [
      "0일 0시간 1분\n"
     ]
    }
   ],
   "source": [
    "# 2) 분(min)을 입력 하면, 일, 시간, 분으로 출력하는 프로그램을 만들어라. (예 : 1550분은 1일 1시간 50분)\n",
    "total_min = int(input(\"분: \"))\n",
    "d, rem = divmod(total_min, 60*24)\n",
    "h, m = divmod(rem, 60)\n",
    "print(f\"{d}일 {h}시간 {m}분\")"
   ]
  },
  {
   "cell_type": "code",
   "execution_count": 19,
   "id": "126f02ea",
   "metadata": {},
   "outputs": [
    {
     "name": "stdout",
     "output_type": "stream",
     "text": [
      "5년 후 금액: 6,381,408원\n"
     ]
    }
   ],
   "source": [
    "# 3) 500만원을 년이율 5%로 복리 저금했을 때 5년 후의 원리금의 합계를 출력하는 프로그램\n",
    "principal = 5_000_000\n",
    "r = 0.05\n",
    "years = 5\n",
    "amount = principal * ((1 + r) ** years)\n",
    "print(f\"{years}년 후 금액: {amount:,.0f}원\")"
   ]
  },
  {
   "cell_type": "code",
   "execution_count": 20,
   "id": "663c0d78",
   "metadata": {},
   "outputs": [
    {
     "name": "stdout",
     "output_type": "stream",
     "text": [
      "5050\n"
     ]
    }
   ],
   "source": [
    "# 4)1부터 n까지의 합은 n(n+1)/2로 주어진다. 1부터 100까지의 합을 구하여 출력하는 프로그램을작성하고 실행하라.\n",
    "print(sum(range(1, 101)))"
   ]
  },
  {
   "cell_type": "code",
   "execution_count": 21,
   "id": "cd929d9d",
   "metadata": {},
   "outputs": [
    {
     "name": "stdout",
     "output_type": "stream",
     "text": [
      "총 무게: 188.5 g\n"
     ]
    }
   ],
   "source": [
    "# 5) 판매자가 딸기와 포도를 판매하고 있다. 포도 한 알의 무게는 75g이고 딸기 한 알의 무게는113.5g이다. 사용자로부터 포도 알의 개수와 딸기의 개수를 입력 받아 총 무게를 계산하여 출력하는 프로그램을 작성하고 실행하라\n",
    "grapes = int(input(\"포도 알 개수: \"))\n",
    "strawberries = int(input(\"딸기 개수: \"))\n",
    "total_weight = grapes * 75 + strawberries * 113.5\n",
    "print(\"총 무게:\", total_weight, \"g\")"
   ]
  }
 ],
 "metadata": {
  "kernelspec": {
   "display_name": "Python 3",
   "language": "python",
   "name": "python3"
  },
  "language_info": {
   "codemirror_mode": {
    "name": "ipython",
    "version": 3
   },
   "file_extension": ".py",
   "mimetype": "text/x-python",
   "name": "python",
   "nbconvert_exporter": "python",
   "pygments_lexer": "ipython3",
   "version": "3.13.7"
  }
 },
 "nbformat": 4,
 "nbformat_minor": 5
}
