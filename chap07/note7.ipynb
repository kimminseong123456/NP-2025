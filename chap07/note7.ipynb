{
 "cells": [
  {
   "cell_type": "markdown",
   "id": "f8bff100",
   "metadata": {},
   "source": [
    "# 7장 노트정리\n",
    "- 이름:김민성\n",
    "- 학번:202110163\n"
   ]
  },
  {
   "cell_type": "markdown",
   "id": "a2928b87",
   "metadata": {},
   "source": [
    "## 1) 모듈 개요\n",
    "- **모듈(Module)**: 함수, 변수, 클래스를 모아 놓은 **.py 파일** 또는 라이브러리 묶음\n",
    "- **종류**: 표준 모듈(파이썬 기본 제공), 서드파티 모듈(PyPI), 사용자 정의 모듈\n",
    "- 빅데이터/AI/IoT 등 대규모 작업에 재사용성과 생산성을 제공"
   ]
  },
  {
   "cell_type": "markdown",
   "id": "1accbf7b",
   "metadata": {},
   "source": [
    "## 2) 모듈 불러오기 (import)\n",
    "여러 방식이 있으며, 네임스페이스 충돌과 가독성을 고려해 선택합니다.\n",
    "\n",
    "**(1) `import module`**\n",
    "```python\n",
    "import socket\n",
    "host = socket.gethostname()\n",
    "```\n",
    "\n",
    "**(2) `from module import name`**\n",
    "```python\n",
    "from socket import gethostname\n",
    "host = gethostname()\n",
    "```\n",
    "\n",
    "**(3) `from module import *` (권장 X)**\n",
    "- 네임스페이스 오염 및 충돌 위험, 메모리 사용 증가 가능성\n",
    "\n",
    "**(4) `import module as alias`**\n",
    "```python\n",
    "import socket as so\n",
    "host = so.gethostname()\n",
    "```\n",
    "\n",
    "**모듈 탐색 경로**: 현재 디렉토리 → `sys.path` 등록 경로 순으로 탐색"
   ]
  },
  {
   "cell_type": "code",
   "execution_count": null,
   "id": "a7bf6658",
   "metadata": {},
   "outputs": [],
   "source": [
    "import os, sys\n",
    "print('cwd =', os.getcwd())\n",
    "print('sys.path entries (truncated):')\n",
    "print(sys.path[:5])"
   ]
  },
  {
   "cell_type": "markdown",
   "id": "820f726e",
   "metadata": {},
   "source": [
    "## 3) 사용자 정의 모듈\n",
    "일반 파이썬 파일처럼 작성해 저장(`my_module.py`).\n",
    "`if __name__ == '__main__':` 블록은 **직접 실행할 때만** 동작하며, 모듈 테스트에 유용합니다."
   ]
  },
  {
   "cell_type": "code",
   "execution_count": null,
   "id": "89f85a6d",
   "metadata": {},
   "outputs": [],
   "source": [
    "# 예시: my_module.py 내용 (설명용)\n",
    "def sum_to(n: int) -> int:\n",
    "    return sum(range(1, n+1))\n",
    "\n",
    "def power(x: int, n: int) -> int:\n",
    "    prod = 1\n",
    "    for _ in range(n):\n",
    "        prod *= x\n",
    "    return prod\n",
    "\n",
    "if __name__ == '__main__':\n",
    "    print(sum_to(5))\n",
    "    print(power(2, 3))"
   ]
  },
  {
   "cell_type": "markdown",
   "id": "85baca92",
   "metadata": {},
   "source": [
    "사용 예(동일 경로에 `my_module.py`가 있다고 가정):\n",
    "```python\n",
    "import my_module\n",
    "print(my_module.sum_to(10))\n",
    "print(my_module.power(2, 3))\n",
    "```"
   ]
  },
  {
   "cell_type": "markdown",
   "id": "1799fe42",
   "metadata": {},
   "source": [
    "## 4) 유용한 표준 모듈\n",
    "### 4-1) `sys`\n",
    "- 인터프리터/환경 정보, 인자(`sys.argv`), 표준 입출력 스트림 등"
   ]
  },
  {
   "cell_type": "code",
   "execution_count": null,
   "id": "7dfdc684",
   "metadata": {},
   "outputs": [],
   "source": [
    "import sys\n",
    "print(sys.version.split('\\n')[0])\n",
    "print('prefix =', getattr(sys, 'prefix', None))\n",
    "# 예: 인자를 시뮬레이션하진 않지만, sys.argv 형태는 아래와 같습니다.\n",
    "print('argv =', sys.argv)"
   ]
  },
  {
   "cell_type": "markdown",
   "id": "4c1ec6c7",
   "metadata": {},
   "source": [
    "### 4-2) `random`\n",
    "- 난수/표본 추출"
   ]
  },
  {
   "cell_type": "code",
   "execution_count": null,
   "id": "c28ae6ff",
   "metadata": {},
   "outputs": [],
   "source": [
    "import random\n",
    "print('randint(1,5):', random.randint(1,5))\n",
    "print('random():', random.random())\n",
    "print('choice(\"hello\"):', random.choice('hello'))"
   ]
  },
  {
   "cell_type": "markdown",
   "id": "fd9ac3fd",
   "metadata": {},
   "source": [
    "### 4-3) `math`\n",
    "- 수학 상수/함수"
   ]
  },
  {
   "cell_type": "code",
   "execution_count": null,
   "id": "79631029",
   "metadata": {},
   "outputs": [],
   "source": [
    "import math\n",
    "print('pi =', math.pi)\n",
    "print('sin(pi/6) =', math.sin(math.pi/6))\n",
    "print('log10(2) =', math.log10(2))"
   ]
  },
  {
   "cell_type": "markdown",
   "id": "8aa1262e",
   "metadata": {},
   "source": [
    "### 4-4) `time` / 4-5) `calendar`\n",
    "- 시간/달력 관련 유틸리티"
   ]
  },
  {
   "cell_type": "code",
   "execution_count": null,
   "id": "c62a2788",
   "metadata": {},
   "outputs": [],
   "source": [
    "import time, calendar\n",
    "print('time():', time.time())\n",
    "print('asctime():', time.asctime())\n",
    "print(calendar.month(2019, 2))"
   ]
  },
  {
   "cell_type": "markdown",
   "id": "244fa576",
   "metadata": {},
   "source": [
    "### 4-6) `enum`\n",
    "- 열거형 상수. 이름(`name`)과 값(`value`)을 가지며, 값 변경 불가"
   ]
  },
  {
   "cell_type": "code",
   "execution_count": null,
   "id": "da285f8a",
   "metadata": {},
   "outputs": [],
   "source": [
    "from enum import Enum\n",
    "class Color(Enum):\n",
    "    RED = 1\n",
    "    GREEN = 2\n",
    "    BLUE = 3\n",
    "\n",
    "print(Color.RED.name, Color.RED.value)\n",
    "for x in Color:\n",
    "    print(x)"
   ]
  },
  {
   "cell_type": "markdown",
   "id": "f061f5f4",
   "metadata": {},
   "source": [
    "## 5) 패키지와 `__init__.py`\n",
    "- **패키지(Package)**: 모듈을 담은 **디렉토리**. 일반적으로 `__init__.py` 포함\n",
    "- Python 3.3+ 에서는 없어도 패키지로 인식되지만, **명시적 포함 권장**(초기화 코드/메타데이터 정의 가능)\n",
    "\n",
    "예시 구조:\n",
    "```\n",
    "mypackage/\n",
    "├─ __init__.py   # 패키지 초기화/공용 노출\n",
    "├─ module1.py\n",
    "└─ module2.py\n",
    "```\n",
    "`__init__.py` 예시:\n",
    "```python\n",
    "__version__ = '1.0.0'\n",
    "__author__ = 'Your Name'\n",
    "from .module1 import Class1\n",
    "from .module2 import function2\n",
    "```"
   ]
  },
  {
   "cell_type": "markdown",
   "id": "bc9295cf",
   "metadata": {},
   "source": [
    "## 6) 모듈 vs 패키지\n",
    "| 구분 | 모듈 | 패키지 |\n",
    "|---|---|---|\n",
    "| 구성 단위 | 하나의 `.py` 파일 | 디렉토리(여러 모듈 포함) |\n",
    "| 초기화 파일 | 필요 없음 | 보통 `__init__.py` 사용 |\n",
    "| 용도 | 코드 재사용 | 모듈을 그룹화/계층적 관리 |\n",
    "\n",
    "**사용 예**\n",
    "```python\n",
    "# 모듈 사용\n",
    "import math\n",
    "print(math.sqrt(16))\n",
    "\n",
    "# 패키지 사용\n",
    "from mypackage import module1\n",
    "module1.some_function()\n",
    "```"
   ]
  },
  {
   "cell_type": "markdown",
   "id": "87858ac1",
   "metadata": {},
   "source": [
    "## 7) 파이썬 가상환경 (venv / conda / virtualenv)\n",
    "- 프로젝트별 **독립 환경**을 만들어 패키지 버전 충돌을 방지\n",
    "- 설치 모듈은 해당 환경에 격리 저장, `requirements.txt`로 의존성 관리\n",
    "\n",
    "### 7-1) `venv` (내장)\n",
    "```bash\n",
    "python -m venv .venv\n",
    "# Windows 활성화: .\\.venv\\Scripts\\activate\n",
    "# macOS/Linux 활성화: source .venv/bin/activate\n",
    "deactivate\n",
    "```\n",
    "\n",
    "### 7-2) `conda`\n",
    "```bash\n",
    "conda create -n myenv python=3.9\n",
    "conda activate myenv\n",
    "conda deactivate\n",
    "conda env list\n",
    "conda env remove -n myenv\n",
    "```\n",
    "\n",
    "### 7-3) `virtualenv`\n",
    "```bash\n",
    "pip install virtualenv\n",
    "virtualenv myenv\n",
    "virtualenv -p python3.9 myenv\n",
    "```\n",
    "\n",
    "### 의존성 고정/재설치\n",
    "```bash\n",
    "pip freeze > requirements.txt\n",
    "pip install -r requirements.txt\n",
    "```"
   ]
  }
 ],
 "metadata": {
  "language_info": {
   "name": "python"
  }
 },
 "nbformat": 4,
 "nbformat_minor": 5
}
