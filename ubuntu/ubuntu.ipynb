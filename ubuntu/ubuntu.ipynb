{
 "cells": [
  {
   "cell_type": "markdown",
   "id": "5d24f5cc",
   "metadata": {},
   "source": [
    "![ubuntu 연결 및 실행](./스크린샷%202025-10-15%20143633.png)\n"
   ]
  },
  {
   "cell_type": "markdown",
   "id": "cbb8eeab",
   "metadata": {},
   "source": [
    "![vscode에서 wsl ubuntu 서버 접속하기](./ubuntuvscode.png)\n"
   ]
  },
  {
   "cell_type": "markdown",
   "id": "2b900b1e",
   "metadata": {},
   "source": [
    "![wsl-ubuntu/window host ip 확인하기](./1.png)"
   ]
  },
  {
   "cell_type": "markdown",
   "id": "5a3793c1",
   "metadata": {},
   "source": [
    "![윈도우 applocations on x server of mobaxterm](./2.png)"
   ]
  },
  {
   "cell_type": "markdown",
   "id": "3c64be4d",
   "metadata": {},
   "source": []
  }
 ],
 "metadata": {
  "kernelspec": {
   "display_name": "Python 3",
   "language": "python",
   "name": "python3"
  },
  "language_info": {
   "codemirror_mode": {
    "name": "ipython",
    "version": 3
   },
   "file_extension": ".py",
   "mimetype": "text/x-python",
   "name": "python",
   "nbconvert_exporter": "python",
   "pygments_lexer": "ipython3",
   "version": "3.13.7"
  }
 },
 "nbformat": 4,
 "nbformat_minor": 5
}
