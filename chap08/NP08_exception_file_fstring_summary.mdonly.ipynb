{
 "cells": [
  {
   "cell_type": "markdown",
   "id": "6d248086",
   "metadata": {},
   "source": [
    "# 8장 노트정리\n",
    "- 이름:김민성\n",
    "- 학번:202110163\n"
   ]
  },
  {
   "cell_type": "markdown",
   "id": "171230d9",
   "metadata": {},
   "source": [
    "## 1) 예외(Exception) 개념과 주요 종류\n",
    "- 프로그램 실행 중 오류 상황이 발생하면 예외 객체가 만들어지고, 예외가 처리되지 않으면 실행이 중단됩니다.\n",
    "- 대표 예시: ZeroDivisionError(0으로 나눔), IndexError(인덱스 범위 초과), FileNotFoundError(없는 파일 열기), ValueError(값 변환 실패), NameError(정의되지 않은 변수), TypeError(형이 맞지 않는 연산)."
   ]
  },
  {
   "cell_type": "markdown",
   "id": "96801a4c",
   "metadata": {},
   "source": [
    "예시\n",
    "5/0 실행 → ZeroDivisionError 발생\n",
    "a = [0, 1, 2] 후 a[3] 접근 → IndexError 발생\n",
    "open(\"Nofile.txt\", \"r\") → FileNotFoundError 발생\n",
    "int(\"1.23\") → ValueError 발생\n",
    "1 + var*2 (var 미정의) → NameError 발생\n",
    "\"str\" + 1 → TypeError 발생"
   ]
  },
  {
   "cell_type": "markdown",
   "id": "8beb42a8",
   "metadata": {},
   "source": [
    "## 2) 예외 처리 문법\n",
    "- try, except, else, finally 블록을 사용합니다.\n",
    "- try에서 예외가 발생하면 해당 예외와 일치하는 except가 실행됩니다.\n",
    "- else는 예외가 발생하지 않았을 때 실행됩니다.\n",
    "- finally는 예외 발생 여부와 관계없이 항상 실행됩니다."
   ]
  },
  {
   "cell_type": "markdown",
   "id": "590bc1e0",
   "metadata": {},
   "source": [
    "단일 예외 처리 예시\n",
    "try: a = 1 / b\n",
    "except ZeroDivisionError: \"0으로 나눌 수 없습니다\"\n",
    "else: a 값을 출력\n"
   ]
  },
  {
   "cell_type": "markdown",
   "id": "e72a3bc4",
   "metadata": {},
   "source": [
    "모든 예외 포착 예시\n",
    "try: a = int(input(\"Type a Number: \"))\n",
    "except Exception as e: \"예외가 발생했습니다\", e\n",
    "else: a 값을 출력"
   ]
  },
  {
   "cell_type": "markdown",
   "id": "bfa03149",
   "metadata": {},
   "source": [
    "복합 처리 예시\n",
    "try: 파일 열고 한 줄 읽어서 int로 변환\n",
    "except OSError as err: \"OS 오류\", err\n",
    "except ValueError: \"정수로 변환할 수 없습니다\"\n",
    "except: \"알 수 없는 오류가 발생하였습니다\""
   ]
  },
  {
   "cell_type": "markdown",
   "id": "d1a034c2",
   "metadata": {},
   "source": [
    "try-except-finally 예시\n",
    "try: result = x / y\n",
    "except ZeroDivisionError: \"0으로 나눌 수 없습니다\"\n",
    "except: result 값을 출력 시도\n",
    "finally: \"예외처리가 끝났습니다\""
   ]
  },
  {
   "cell_type": "markdown",
   "id": "6c2cfa71",
   "metadata": {},
   "source": [
    "## 3) 사용자 정의 예외 클래스\n",
    "- Exception을 상속받아 정의합니다.\n",
    "- __init__와 __str__를 구현하면 메시지 전달 및 출력 형식을 제어할 수 있습니다."
   ]
  },
  {
   "cell_type": "markdown",
   "id": "f35011b9",
   "metadata": {},
   "source": [
    "예시\n",
    "class NegativeNumberError(Exception):\n",
    "  초기화에서 입력값을 보관하고 \"음수는 허용되지 않습니다: 입력값(...)\" 메시지를 구성\n",
    "\n",
    "def process_number(n):\n",
    "  n이 0보다 작으면 raise NegativeNumberError(n)\n",
    "  그렇지 않으면 n * 2 반환\n",
    "\n",
    "try: 입력을 받아 process_number 호출\n",
    "except ValueError: \"숫자가 아닌 값을 입력했습니다\"\n",
    "except NegativeNumberError as e: \"사용자 정의 예외 발생:\", e\n",
    "else: 처리 결과 출력\n",
    "finally: \"프로그램 종료\""
   ]
  },
  {
   "cell_type": "markdown",
   "id": "63b83a1a",
   "metadata": {},
   "source": [
    "## 4) 파일 입출력 기본 개념\n",
    "- 표준 입력은 키보드, 표준 출력/표준 에러는 콘솔 화면입니다.\n",
    "- 파일은 텍스트 파일(사람이 읽을 수 있는 문자 데이터)과 이진 파일(바이트 데이터)로 구분됩니다.\n",
    "- 파일 처리 흐름: 열기 → 사용(읽기/쓰기) → 닫기."
   ]
  },
  {
   "cell_type": "markdown",
   "id": "263b8458",
   "metadata": {},
   "source": [
    "파일 열기 형식\n",
    "fp = open(\"filename\", \"mode\")\n",
    "mode 예시: r, w, a, x / r+, w+, a+ / rb, wb, ab, rb+, wb+, ab+\n",
    "텍스트 파일 모드 설명\n",
    "r: 읽기 전용, 파일이 있어야 함\n",
    "w: 쓰기 전용, 없으면 생성, 있으면 덮어씀\n",
    "a: 추가 모드, 파일 끝에 덧붙임, 없으면 생성\n",
    "x: 배타적 생성, 이미 있으면 오류\n",
    "r+: 읽기/쓰기, 파일이 있어야 함\n",
    "w+: 읽기/쓰기, 새로 씀(덮어쓰기)\n",
    "a+: 읽기/쓰기, 끝에 덧붙임"
   ]
  },
  {
   "cell_type": "markdown",
   "id": "7c1e6983",
   "metadata": {},
   "source": [
    "## 5) 텍스트 파일: 쓰기/읽기/추가\n",
    "- utf-8 인코딩으로 열고 쓰거나 읽습니다.\n",
    "- write는 문자열 여러 줄을 한 번에 작성, readline/readlines는 순차적으로 읽기.\n",
    "- 한 줄을 정의할 때는 줄 끝에 \\n을 사용합니다.\n",
    "- 파일이 없을 때 읽기 모드로 열면 예외가 발생하므로 주의합니다."
   ]
  },
  {
   "cell_type": "markdown",
   "id": "7ae5dd21",
   "metadata": {},
   "source": [
    "쓰기 예시\n",
    "open(\"./phonebook.txt\", \"w\", encoding=\"utf-8\")\n",
    "연락처 여러 줄을 write 또는 writeline으로 기록\n",
    "close로 닫기"
   ]
  },
  {
   "cell_type": "markdown",
   "id": "eb346831",
   "metadata": {},
   "source": [
    "읽기 예시\n",
    "open(\"./phonebook.txt\", \"r\", encoding=\"utf-8\")\n",
    "while 루프에서 readline 후 strip으로 공백 제거하며 출력\n",
    "또는 readlines로 리스트를 받아 for로 순회\n",
    "파일이 없으면 FileNotFoundError"
   ]
  },
  {
   "cell_type": "markdown",
   "id": "9633b421",
   "metadata": {},
   "source": [
    "읽기 예외 처리 예시\n",
    "try: open(\"./phonebook1.txt\", \"r\", encoding=\"utf-8\")\n",
    "except FileNotFoundError as e: \"File not found:\", e"
   ]
  },
  {
   "cell_type": "markdown",
   "id": "b1bf496d",
   "metadata": {},
   "source": [
    "with as 한 번에 열고 닫기\n",
    "with open(\"./phonebook.txt\", \"w\", encoding=\"utf-8\") as w:\n",
    "  딕셔너리의 key, value를 순회하며 f\"{value}, {key}\" 형태로 기록\n",
    "\n",
    "with open(\"./phonebook.txt\", \"r\", encoding=\"utf-8\") as r:\n",
    "  readline 또는 for line in r 로 읽어서 출력"
   ]
  },
  {
   "cell_type": "markdown",
   "id": "7d1cd8dd",
   "metadata": {},
   "source": [
    "추가하기 예시\n",
    "open(\"./phonebook.txt\", \"a\", encoding=\"utf-8\")\n",
    "새로운 라인을 덧붙이고 close"
   ]
  },
  {
   "cell_type": "markdown",
   "id": "9ea3ceb3",
   "metadata": {},
   "source": [
    "## 6) 이진 파일 처리와 struct 모듈\n",
    "- 이진 파일 모드: rb, wb, ab, rb+, wb+, ab+\n",
    "- 이진 데이터는 bytes로 읽고 씁니다. 예: f.read(바이트수), f.write(바이트열)\n",
    "- 문자열을 바이트로 변환: 텍스트.encode(\"utf-8\")\n",
    "- 고정 길이 레코드를 다룰 때는 ljust, rstrip, 그리고 struct.pack/unpack을 활용합니다."
   ]
  },
  {
   "cell_type": "markdown",
   "id": "e84bc987",
   "metadata": {},
   "source": [
    "struct 기본\n",
    "struct.pack(포맷, 값들) → 바이트열\n",
    "struct.unpack(포맷, 바이트열) → 값들\n",
    "예: 16바이트 문자열 2개와 4바이트 정수 → 포맷 \"16s16si\"\n",
    "엔디안 표기: <: 리틀 엔디안, >: 빅 엔디안, !: 네트워크 바이트 순서"
   ]
  },
  {
   "cell_type": "markdown",
   "id": "135e2d31",
   "metadata": {},
   "source": [
    "고정 길이 연락처 레코드 예시 흐름\n",
    "ContactRecord(phone, name, age) 클래스를 정의\n",
    "pack_contact_record: phone과 name을 utf-8로 인코딩한 뒤 16바이트로 자르고 왼쪽 정렬 후 부족분을 0으로 채워서 struct.pack(\"16s16si\", phone_bytes, name_bytes, age)\n",
    "unpack_contact_record: struct.unpack으로 분해한 뒤 rstrip으로 0을 제거하고 decode로 복원\n",
    "파일에 36바이트 단위로 쓰고, 읽을 때도 36바이트씩 읽어 해석"
   ]
  },
  {
   "cell_type": "markdown",
   "id": "54c45ad3",
   "metadata": {},
   "source": [
    "파일 임의 접근\n",
    "f.seek(offset, from)으로 커서를 이동하고 f.tell()로 현재 위치를 확인합니다.\n",
    "예: 특정 레코드를 덮어써 수정할 때, 현재 위치를 기록하고 pack한 새 레코드를 같은 위치에 write"
   ]
  },
  {
   "cell_type": "markdown",
   "id": "10413066",
   "metadata": {},
   "source": [
    "## 7) with as 구문과 컨텍스트 관리자\n",
    "- with 표현식 as 변수: 블록을 벗어날 때 자동으로 자원을 정리합니다.\n",
    "- 사용자 정의 컨텍스트 관리자: 클래스에 __enter__와 __exit__를 정의하거나 contextmanager 데코레이터를 사용합니다.\n",
    "예시 흐름\n",
    "with MyContext() as msg: 블록 시작 시 __enter__ 실행, 블록 종료 시 __exit__ 실행\n",
    "@contextmanager로 파일 열고 yield f 한 뒤 finally에서 f.close 실행"
   ]
  },
  {
   "cell_type": "markdown",
   "id": "a5c33a9d",
   "metadata": {},
   "source": [
    "## 8) F-String (형식 지정 문자열)\n",
    "- f\"...{표현식}...\" 형태로 변수, 표현식, 함수 호출 결과를 문자열에 간단히 삽입합니다.\n",
    "- 정수/실수 포맷, 날짜 포맷, 정렬/패딩, 진법 표기, 디버깅용 표현 등 다양한 서식을 지원합니다."
   ]
  },
  {
   "cell_type": "markdown",
   "id": "ed3552a5",
   "metadata": {},
   "source": [
    "숫자 및 포맷 예시\n",
    "정수 부호: f\"{n:+}\"\n",
    "실수 자릿수: f\"{x:.2f}\"\n",
    "천 단위 구분: f\"{m:,}\"\n",
    "폭과 정렬: f\"{text:<10}\", f\"{text:>10}\", f\"{text:^10}\"\n",
    "패딩: f\"{m:0>10}\" 같은 형태로 채움 문자 지정\n",
    "진법: f\"{number:b}\", f\"{number:o}\", f\"{number:x}\", 접두사 포함은 # 사용\n",
    "디버깅(3.8+): f\"{변수명=}\" 형태로 이름과 값을 함께 출력"
   ]
  },
  {
   "cell_type": "markdown",
   "id": "670848c3",
   "metadata": {},
   "source": [
    "날짜와 시간 포맷 예시\n",
    "f\"{now:%Y-%m-%d %H:%M:%S}\"\n",
    "f\"{now:%Y년 %m월 %d일}\"\n",
    "요일 또는 월 이름: %A, %B 등"
   ]
  },
  {
   "cell_type": "markdown",
   "id": "30b84b6c",
   "metadata": {},
   "source": [
    "중괄호와 특수 문자\n",
    "중괄호 자체를 출력하려면 {{ 와 }} 를 사용합니다.\n",
    "원시 문자열 경로는 r\"C:\\\\path\\\\to\" 와 같이 표기합니다."
   ]
  },
  {
   "cell_type": "markdown",
   "id": "737e7898",
   "metadata": {},
   "source": [
    "실용 예시\n",
    "진행률 바: 현재/전체로 백분율과 막대를 만들어 한 줄에 표시\n",
    "로그 메시지: f\"[타임스탬프] 레벨 | 메시지\" 형태로 깔끔하게 출력"
   ]
  }
 ],
 "metadata": {
  "language_info": {
   "name": "python"
  }
 },
 "nbformat": 4,
 "nbformat_minor": 5
}
