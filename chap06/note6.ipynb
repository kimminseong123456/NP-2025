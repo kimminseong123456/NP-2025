{
 "cells": [
  {
   "cell_type": "markdown",
   "id": "381b314e",
   "metadata": {},
   "source": [
    "# 6장 노트정리\n",
    "- 이름:김민성\n",
    "- 학번:202110163\n"
   ]
  },
  {
   "cell_type": "markdown",
   "id": "61c234b9",
   "metadata": {},
   "source": [
    "## 1) 객체지향 프로그래밍 개요\n",
    "- 프로그램을 **클래스**로 정의하고, 클래스로부터 **객체(인스턴스)**를 생성하여 사용\n",
    "- **속성(attribute)** = 변수, **동작(behavior)** = 메소드(method)\n",
    "- **상속**으로 코드 재사용 및 확장, **다형성**으로 동일 인터페이스에 다른 동작 연결\n",
    "- 객체는 일반 변수처럼 인자/반환값으로 전달 가능(튜플/딕셔너리 요소도 가능)"
   ]
  },
  {
   "cell_type": "markdown",
   "id": "e88cb8d5",
   "metadata": {},
   "source": [
    "## 2) 클래스 정의와 객체 생성\n",
    "```python\n",
    "class Test:\n",
    "    name = \"홍길동\"  # 클래스 변수(예시)\n",
    "\n",
    "t = Test()           # 객체 생성\n",
    "print(t.name)        # 홍길동\n",
    "```\n",
    "- `class` 키워드로 정의, 필요 시 `class 서브클래스(슈퍼클래스):` 형태로 상속"
   ]
  },
  {
   "cell_type": "markdown",
   "id": "6740290f",
   "metadata": {},
   "source": [
    "## 3) 초기화 함수 __init__\n",
    "- 객체 생성 시 **자동 실행**되는 메소드\n",
    "- 인스턴스 변수는 `self.var`로 정의하고 모든 메소드에서 사용 가능"
   ]
  },
  {
   "cell_type": "code",
   "execution_count": null,
   "id": "46351d5d",
   "metadata": {},
   "outputs": [],
   "source": [
    "class Car:\n",
    "    def __init__(self, color, speed):\n",
    "        self.color = color   # 인스턴스 변수\n",
    "        self.speed = speed\n",
    "\n",
    "    def speed_up(self, v):   # 메소드의 첫 인자는 관례적으로 self\n",
    "        self.speed += v\n",
    "        return self.speed\n",
    "\n",
    "    def speed_down(self, v):\n",
    "        self.speed -= v\n",
    "        return self.speed\n",
    "\n",
    "mycar = Car('Black', 60)\n",
    "print('색상:', mycar.color, '속도:', mycar.speed)\n",
    "mycar.color = 'Red'\n",
    "print('변경된 색상:', mycar.color)\n",
    "mycar.speed_up(10)\n",
    "print('증속 후:', mycar.speed)\n",
    "mycar.speed_down(20)\n",
    "print('감속 후:', mycar.speed)"
   ]
  },
  {
   "cell_type": "markdown",
   "id": "365ecb03",
   "metadata": {},
   "source": [
    "## 4) 클래스 속성: 클래스 변수 vs 인스턴스 변수\n",
    "- **클래스 변수**: 클래스 전체에서 **공유**되는 값 (예: `Calc.count`)\n",
    "- **인스턴스 변수**: 각 객체가 **개별적으로 보유**하는 값 (예: `self.a`, `self.b`)"
   ]
  },
  {
   "cell_type": "code",
   "execution_count": null,
   "id": "289c3e7b",
   "metadata": {},
   "outputs": [],
   "source": [
    "class Calc:\n",
    "    count = 0  # 클래스 변수\n",
    "\n",
    "    def add(self, a=0, b=0):\n",
    "        self.a = a  # 인스턴스 변수\n",
    "        self.b = b\n",
    "        Calc.count += 1  # 클래스 변수 증가(권장: 클래스명으로 접근)\n",
    "        return self.a + self.b\n",
    "\n",
    "    def minus(self, a, b):\n",
    "        if a == 0 or b == 0:\n",
    "            return a - b, Calc.count\n",
    "        else:\n",
    "            return a - b\n",
    "\n",
    "obj = Calc()\n",
    "print(obj.minus(3, 0))\n",
    "print(obj.add(1, 2))\n",
    "print(obj.count, Calc.count)  # obj.count는 조회 시 인스턴스 dict에서 보이나, 실제 공유값은 Calc.count"
   ]
  },
  {
   "cell_type": "markdown",
   "id": "1494e951",
   "metadata": {},
   "source": [
    "## 5) 상속(inheritance)과 오버라이딩(overriding)\n",
    "- **상속**: 부모 클래스의 속성과 메소드를 물려받아 재사용/확장\n",
    "- **오버라이딩**: 자식 클래스가 부모의 메소드를 **재정의**하여 동작을 변경"
   ]
  },
  {
   "cell_type": "code",
   "execution_count": null,
   "id": "0d0ce53a",
   "metadata": {},
   "outputs": [],
   "source": [
    "class People:\n",
    "    def __init__(self, age=0, name=None):\n",
    "        self.__age = age\n",
    "        self.__name = name\n",
    "\n",
    "    def intro_me(self):\n",
    "        print(\"Name:\", self.__name, \"age:\", str(self.__age))\n",
    "\n",
    "class Teacher(People):\n",
    "    def __init__(self, age=0, name=None, school=None):\n",
    "        super().__init__(age, name)  # 부모 초기화\n",
    "        self.school = school\n",
    "\n",
    "    def show_school(self):\n",
    "        print(\"My School is\", self.school)\n",
    "\n",
    "class Student(People):\n",
    "    def __init__(self, age=0, name=None, grade=None):\n",
    "        super().__init__(age, name)\n",
    "        self.__grade = grade\n",
    "\n",
    "    def intro_me(self):  # 오버라이딩\n",
    "        super().intro_me()\n",
    "        print(\"Grade:\", self.__grade)\n",
    "\n",
    "p1 = People(29, 'Lee'); p1.intro_me()\n",
    "t1 = Teacher(48, 'Kim', 'HighSchool'); t1.intro_me(); t1.show_school()\n",
    "s1 = Student(17, 'Park', 2); s1.intro_me()"
   ]
  },
  {
   "cell_type": "markdown",
   "id": "82064604",
   "metadata": {},
   "source": [
    "## 6) 다형성(polymorphism)\n",
    "- 동일한 인터페이스(메소드 이름)로 **여러 타입**의 동작을 통일해 호출\n",
    "- 전달 객체 타입에 따라 실제 실행 메소드가 달라짐"
   ]
  },
  {
   "cell_type": "code",
   "execution_count": null,
   "id": "a766b125",
   "metadata": {},
   "outputs": [],
   "source": [
    "class Korean:\n",
    "    def greeting(self):\n",
    "        print('안녕하세요')\n",
    "\n",
    "class American:\n",
    "    def greeting(self):\n",
    "        print('Hello')\n",
    "\n",
    "def sayhello(people):\n",
    "    people.greeting()\n",
    "\n",
    "sayhello(Korean())\n",
    "sayhello(American())"
   ]
  },
  {
   "cell_type": "markdown",
   "id": "c2779d82",
   "metadata": {},
   "source": [
    "## 7) 가시성(Visibility) 관례\n",
    "- **public**: 접두어 없음 (`value`) → 어디서나 접근 가능\n",
    "- **protected**: 접두어 한 개 밑줄(`_value`) → 하위 클래스 접근 권장, 외부 직접 접근 비권장\n",
    "- **private**: 접두어 두 개 밑줄(`__value`) → 이름 맹글링으로 외부/하위 클래스에서 직접 접근 어려움"
   ]
  },
  {
   "cell_type": "code",
   "execution_count": null,
   "id": "2046bae0",
   "metadata": {},
   "outputs": [],
   "source": [
    "class Base:\n",
    "    def __init__(self):\n",
    "        self.public_value = 1\n",
    "        self._protected_value = 2\n",
    "        self.__private_value = 3\n",
    "\n",
    "class Child(Base):\n",
    "    def show(self):\n",
    "        print(self.public_value)\n",
    "        print(self._protected_value)\n",
    "        # print(self.__private_value)  # AttributeError\n",
    "\n",
    "Base(), Child()"
   ]
  },
  {
   "cell_type": "markdown",
   "id": "7fd0ea1b",
   "metadata": {},
   "source": [
    "## 8) 추상 클래스(abstract class)\n",
    "- `abc` 모듈의 `ABC`, `@abstractmethod`로 정의\n",
    "- **추상 메서드**는 하위 클래스에서 반드시 구현, **직접 인스턴스화 불가**"
   ]
  },
  {
   "cell_type": "code",
   "execution_count": null,
   "id": "5817ba9e",
   "metadata": {},
   "outputs": [],
   "source": [
    "from abc import ABC, abstractmethod\n",
    "\n",
    "class Animal(ABC):\n",
    "    @abstractmethod\n",
    "    def sound(self):\n",
    "        pass\n",
    "\n",
    "class Dog(Animal):\n",
    "    def sound(self):\n",
    "        return '멍멍'\n",
    "\n",
    "# a = Animal()  # TypeError\n",
    "d = Dog(); print(d.sound())"
   ]
  },
  {
   "cell_type": "markdown",
   "id": "7c9e2c93",
   "metadata": {},
   "source": [
    "## 9) 정적 멤버 (클래스 변수, `@staticmethod`)\n",
    "- 클래스 전체가 공유하는 변수/메소드\n",
    "- 변수는 `ClassName.var`로 접근, 메소드는 `@staticmethod`로 정의"
   ]
  },
  {
   "cell_type": "code",
   "execution_count": null,
   "id": "bf60a354",
   "metadata": {},
   "outputs": [],
   "source": [
    "class Counter:\n",
    "    count = 0  # 클래스 변수\n",
    "\n",
    "    def __init__(self):\n",
    "        self.__object_counter = 1  # 인스턴스 전용(예시)\n",
    "\n",
    "    @staticmethod\n",
    "    def increment_class():\n",
    "        Counter.count += 1\n",
    "\n",
    "Counter.increment_class()\n",
    "print(Counter.count)  # 1\n",
    "c = Counter()\n",
    "# print(c.__object_counter)  # Name mangling으로 직접 접근 어려움"
   ]
  },
  {
   "cell_type": "markdown",
   "id": "49bf9295",
   "metadata": {},
   "source": [
    "## 10) Dunder Methods\n",
    "- **Double Underline** 메소드 (`__init__`, `__str__`, `__eq__`, `__gt__` 등)\n",
    "- 객체 생성, 문자열 표현, 비교 연산 등 **특정 상황에 자동 호출**\n",
    "- `dir(object)`로 객체가 가진 dunder 메소드 확인 가능"
   ]
  },
  {
   "cell_type": "code",
   "execution_count": null,
   "id": "ffa37519",
   "metadata": {},
   "outputs": [],
   "source": [
    "class Student:\n",
    "    def __init__(self, name, age):\n",
    "        self.name = name\n",
    "        self.age = age\n",
    "\n",
    "    def __str__(self):\n",
    "        return f\"Student(name={self.name}, age={self.age})\"\n",
    "\n",
    "    def __eq__(self, other):\n",
    "        if isinstance(other, Student):\n",
    "            return self.name == other.name and self.age == other.age\n",
    "        return False\n",
    "\n",
    "    def __del__(self):\n",
    "        print(f\"Student {self.name} is being deleted\")\n",
    "\n",
    "s1 = Student('Alice', 20)\n",
    "s2 = Student('Bob', 22)\n",
    "s3 = Student('Alice', 20)\n",
    "print(s1)\n",
    "print(s1 == s2)\n",
    "print(s1 == s3)\n",
    "del s3  # __del__ 호출(환경에 따라 출력 타이밍은 달라질 수 있음)"
   ]
  },
  {
   "cell_type": "markdown",
   "id": "bedfb631",
   "metadata": {},
   "source": [
    "## 11) 파이썬 데코레이터\n",
    "- 함수/메소드/클래스의 **동작을 확장**하는 문법\n",
    "- `@decorator`로 적용, 내부에서 원본 함수를 감싼 `wrapper`가 실행 흐름 제어"
   ]
  },
  {
   "cell_type": "code",
   "execution_count": null,
   "id": "dfd9b4b7",
   "metadata": {},
   "outputs": [],
   "source": [
    "def simple_decorator(func):\n",
    "    def wrapper(*args, **kwargs):\n",
    "        print('함수 실행 전')\n",
    "        result = func(*args, **kwargs)\n",
    "        print('함수 실행 후')\n",
    "        return result\n",
    "    return wrapper\n",
    "\n",
    "@simple_decorator\n",
    "def say_hello():\n",
    "    print('Hello, World!')\n",
    "\n",
    "say_hello()\n",
    "\n",
    "# 이미 정의된 함수를 확장하는 두 가지 방법\n",
    "def hello():\n",
    "    print('Hello, World!')\n",
    "\n",
    "original_hello = hello\n",
    "hello = simple_decorator(original_hello)      # 1) 함수 재할당\n",
    "decorated_hello = simple_decorator(original_hello)  # 2) 새 이름\n",
    "\n",
    "hello()\n",
    "decorated_hello()"
   ]
  }
 ],
 "metadata": {
  "language_info": {
   "name": "python"
  }
 },
 "nbformat": 4,
 "nbformat_minor": 5
}
