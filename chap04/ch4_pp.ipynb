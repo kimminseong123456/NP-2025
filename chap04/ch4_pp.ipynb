{
 "cells": [
  {
   "cell_type": "markdown",
   "id": "a460620e",
   "metadata": {},
   "source": [
    "- 4장 연습문제 \n",
    "- 이름:김민성 \n",
    "- 학번:202110163\n"
   ]
  },
  {
   "cell_type": "markdown",
   "id": "2fa37173",
   "metadata": {},
   "source": [
    "### 리스트 연습문제 1"
   ]
  },
  {
   "cell_type": "code",
   "execution_count": 6,
   "id": "9275fb91",
   "metadata": {},
   "outputs": [
    {
     "name": "stdout",
     "output_type": "stream",
     "text": [
      "친구 추가 ['강찬희', '김민성', '감종규', '염승태']\n",
      "3번째 친구 추가 ['강찬희', '김민성', '김철수', '감종규', '염승태']\n",
      "마지막 친구 추가 ['강찬희', '김민성', '김철수', '감종규', '염승태', '박기수']\n"
     ]
    }
   ],
   "source": [
    "# 3명 이상 친구 이름 리스트를 작성하고 다음 내용을 프로그램하시오\n",
    "friends = [\"김민성\", \"감종규\", \"염승태\"]\n",
    "\n",
    "friends.insert(0, \"강찬희\")\n",
    "print(\"친구 추가\", friends)\n",
    "\n",
    "friends.insert(2, \"김철수\")\n",
    "print(\"3번째 친구 추가\", friends)\n",
    "\n",
    "friends.append(\"박기수\")\n",
    "print(\"마지막 친구 추가\", friends)"
   ]
  },
  {
   "cell_type": "code",
   "execution_count": 15,
   "id": "ceb64ad6",
   "metadata": {},
   "outputs": [
    {
     "name": "stdout",
     "output_type": "stream",
     "text": [
      "두 번째 요소 수정 [1, 17, 3]\n",
      "리스트 추가 [1, 17, 3, 4, 5, 6]\n",
      "첫 번째 요소 삭제 [17, 3, 4, 5, 6]\n",
      "리스트 정렬 [3, 4, 5, 6, 17]\n",
      "인덱스 3에 25 넣기 [3, 4, 5, 25, 6, 17]\n"
     ]
    }
   ],
   "source": [
    "# 리스트 [1,2,3]에 대해 다음과 같은 처리를 하라\n",
    "list = [1,2,3]\n",
    "\n",
    "list[1] = 17\n",
    "print(\"두 번째 요소 수정\", list)\n",
    "\n",
    "list.extend([4,5,6])\n",
    "print(\"리스트 추가\", list)\n",
    "\n",
    "del list[0]\n",
    "print(\"첫 번째 요소 삭제\", list)\n",
    "\n",
    "list.sort()\n",
    "print(\"리스트 정렬\", list)\n",
    "\n",
    "list.insert(3, 25)\n",
    "print(\"인덱스 3에 25 넣기\", list)\n"
   ]
  },
  {
   "cell_type": "markdown",
   "id": "260ea0ae",
   "metadata": {},
   "source": [
    "### 리스트 연습문제 2"
   ]
  },
  {
   "cell_type": "code",
   "execution_count": 16,
   "id": "339ad1af",
   "metadata": {},
   "outputs": [
    {
     "name": "stdout",
     "output_type": "stream",
     "text": [
      "[0, 1, 2, 3, 4, 5, 6, 7, 8, 9, 10, 11, 12, 13, 14, 15, 16, 17, 18, 19, 20, 21, 22, 23, 24, 25, 26, 27, 28, 29, 30, 31, 32, 33, 34, 35, 36, 37, 38, 39, 40, 41, 42, 43, 44, 45, 46, 47, 48, 49]\n"
     ]
    }
   ],
   "source": [
    "# for 루프를 이용하여다음과같은리스트를생성하라.\n",
    "# 0~49까지의 수로 구성되는리스트\n",
    "\n",
    "\n",
    "list = []\n",
    "\n",
    "for a in range(50):\n",
    "    list.append(a)\n",
    "\n",
    "print(list)\n",
    "\n"
   ]
  },
  {
   "cell_type": "code",
   "execution_count": 17,
   "id": "0b4cbbd8",
   "metadata": {},
   "outputs": [
    {
     "name": "stdout",
     "output_type": "stream",
     "text": [
      "[1, 4, 9, 16, 25, 36, 49, 64, 81, 100, 121, 144, 169, 196, 225, 256, 289, 324, 361, 400, 441, 484, 529, 576, 625, 676, 729, 784, 841, 900, 961, 1024, 1089, 1156, 1225, 1296, 1369, 1444, 1521, 1600, 1681, 1764, 1849, 1936, 2025, 2116, 2209, 2304, 2401]\n"
     ]
    }
   ],
   "source": [
    "# 1~50까지 수의 제곱으로구성되는리스트\n",
    "list = []\n",
    "\n",
    "for a in range(1,50):\n",
    "    list.append(a**2)\n",
    "\n",
    "print(list)"
   ]
  },
  {
   "cell_type": "code",
   "execution_count": 18,
   "id": "f8e07502",
   "metadata": {},
   "outputs": [
    {
     "name": "stdout",
     "output_type": "stream",
     "text": [
      "[5, 7, 9]\n"
     ]
    }
   ],
   "source": [
    "#  크기가같은두개의리스트L, M을생성하고두리스트의각요소합으로구성되는새로운리스트를생성하라. 예를들어L=[1,2,3]이고 M=[4,5,6]이면 [5,7,9]인 리스트 생성 \n",
    "\n",
    "L = [1,2,3]\n",
    "M = [4,5,6]\n",
    "\n",
    "r = []\n",
    "for i in range(len(L)):\n",
    "    r.append(L[i] + M[i])\n",
    "\n",
    "\n",
    "print(r)"
   ]
  },
  {
   "cell_type": "markdown",
   "id": "ce1531b8",
   "metadata": {},
   "source": [
    "### 딕셔너리 연습문제"
   ]
  },
  {
   "cell_type": "markdown",
   "id": "d45b3fd7",
   "metadata": {},
   "source": [
    "다음 딕셔너리에 대해 물음에 답하라.\n",
    "- days = {'January':31, 'February':28, 'March':31, 'April':30,'May':31, 'June':30, 'July':31, 'August':31 'September':30, 'October':31, 'November':30, 'December':31}\n"
   ]
  },
  {
   "cell_type": "code",
   "execution_count": 26,
   "id": "6740f9c7",
   "metadata": {},
   "outputs": [
    {
     "name": "stdout",
     "output_type": "stream",
     "text": [
      "May는 31일까지 있습니다.\n"
     ]
    }
   ],
   "source": [
    "# 1. 사용자가 월을 입력하면 해당 월에 일수를 출력하라\n",
    "days = {\n",
    "    'January': 31, 'February': 28, 'March': 31, 'April': 30,\n",
    "    'May': 31, 'June': 30, 'July': 31, 'August': 31, 'September': 30,\n",
    "    'October': 31, 'November': 30, 'December': 31\n",
    "}\n",
    "\n",
    "month = input(\"월 입력: \")\n",
    "if month in days:\n",
    "    print(f\"{month}는 {days[month]}일까지 있습니다.\")\n",
    "else:\n",
    "    print(\"존재하지 않는 월입니다.\")"
   ]
  },
  {
   "cell_type": "code",
   "execution_count": 27,
   "id": "1fd100aa",
   "metadata": {},
   "outputs": [
    {
     "name": "stdout",
     "output_type": "stream",
     "text": [
      "알파벳 순서: ['April', 'August', 'December', 'February', 'January', 'July', 'June', 'March', 'May', 'November', 'October', 'September']\n"
     ]
    }
   ],
   "source": [
    "# 2. 알파벳 순서로 모든 월을 출력하라\n",
    "print(\"알파벳 순서:\", sorted(days.keys()))"
   ]
  },
  {
   "cell_type": "code",
   "execution_count": 28,
   "id": "0047dea2",
   "metadata": {},
   "outputs": [
    {
     "name": "stdout",
     "output_type": "stream",
     "text": [
      "31일까지 있는 월: ['January', 'March', 'May', 'July', 'August', 'October', 'December']\n"
     ]
    }
   ],
   "source": [
    "# 3.일수가 31인 월을 모두 출력하라\n",
    "print(\"31일까지 있는 월:\", [m for m, d in days.items() if d == 31])"
   ]
  },
  {
   "cell_type": "code",
   "execution_count": 29,
   "id": "f491a297",
   "metadata": {},
   "outputs": [
    {
     "name": "stdout",
     "output_type": "stream",
     "text": [
      "일수 기준 오름차순:\n",
      "February : 28\n",
      "April : 30\n",
      "June : 30\n",
      "September : 30\n",
      "November : 30\n",
      "January : 31\n",
      "March : 31\n",
      "May : 31\n",
      "July : 31\n",
      "August : 31\n",
      "October : 31\n",
      "December : 31\n"
     ]
    }
   ],
   "source": [
    "# 4. 월의 일수를 기준으로 오름차순으로 (key-value) 쌍을 출력하라\n",
    "print(\"일수 기준 오름차순:\")\n",
    "for m, d in sorted(days.items(), key=lambda x: x[1]):\n",
    "    print(m, \":\", d)"
   ]
  },
  {
   "cell_type": "code",
   "execution_count": 31,
   "id": "2c11119a",
   "metadata": {},
   "outputs": [
    {
     "name": "stdout",
     "output_type": "stream",
     "text": [
      "January는 31일까지 있습니다.\n"
     ]
    }
   ],
   "source": [
    "# 5. 사용자가 월을 3자리만 입력하면 월의 일수를 출력하라.(Jan, Feb 등)\n",
    "short = input(\"월(3자리) 입력: \")\n",
    "found = False\n",
    "for m in days:\n",
    "    if m.startswith(short):\n",
    "        print(f\"{m}는 {days[m]}일까지 있습니다.\")\n",
    "        found = True\n",
    "        break\n",
    "if not found:\n",
    "    print(\"존재하지 않는 월입니다.\")"
   ]
  }
 ],
 "metadata": {
  "kernelspec": {
   "display_name": "Python 3",
   "language": "python",
   "name": "python3"
  },
  "language_info": {
   "codemirror_mode": {
    "name": "ipython",
    "version": 3
   },
   "file_extension": ".py",
   "mimetype": "text/x-python",
   "name": "python",
   "nbconvert_exporter": "python",
   "pygments_lexer": "ipython3",
   "version": "3.13.7"
  }
 },
 "nbformat": 4,
 "nbformat_minor": 5
}
