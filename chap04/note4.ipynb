{
  "cells": [
    {
      "cell_type": "markdown",
      "metadata": {},
      "source": [
        "# 4장 노트정리\n",
        "- 이름:김민성\n",
        "- 학번:202110163\n"
      ]
    },
    {
      "cell_type": "markdown",
      "id": "708bc89b",
      "metadata": {},
      "source": [
        "## 1. 자료구조 개요\n",
        "- 데이터를 표현하고 효율적으로 처리·저장하기 위한 구조\n",
        "- 파이썬의 기본 자료구조\n",
        "  - 문자열 (String)\n",
        "  - 리스트 (List)\n",
        "  - 튜플 (Tuple)\n",
        "  - 딕셔너리 (Dictionary)\n",
        "  - 집합 (Set)\n"
      ]
    },
    {
      "cell_type": "markdown",
      "id": "9a4d64a2",
      "metadata": {},
      "source": [
        "## 2. 문자열 (String)\n",
        "- 문자들의 집합\n",
        "- ' '`혹은 \" \" 로 표현, 여러 줄은 ''' ... ''' 또는 \"\"\" ... \"\"\"\n",
        "- 특징: immutable (수정 불가)\n"
      ]
    },
    {
      "cell_type": "code",
      "execution_count": null,
      "id": "aa71dd9b",
      "metadata": {},
      "outputs": [],
      "source": [
        "word = 'Python'\n",
        "print(word[0], word[-1])\n",
        "print(word[0:2], word[2:], word[-2:])"
      ]
    },
    {
      "cell_type": "markdown",
      "id": "4256d4d2",
      "metadata": {},
      "source": [
        "### 문자열 메소드\n",
        "- 검사: isdigit, isalpha, isalnum, isupper, islower, isspace\n",
        "- 변환: upper, lower, swapcase, title\n",
        "- 탐색: count, find, rfind, index\n",
        "- 분리/결합: split, join\n",
        "- 공백제거: strip, rstrip, lstrip\n",
        "- 정렬/채우기: rjust, ljust, center, zfill\n"
      ]
    },
    {
      "cell_type": "code",
      "execution_count": null,
      "id": "3474ccca",
      "metadata": {},
      "outputs": [],
      "source": [
        "s = ' hello '\n",
        "print(s.strip())\n",
        "print('*'.join('hello'))\n",
        "print('12'.zfill(5))"
      ]
    },
    {
      "cell_type": "markdown",
      "id": "df0a773f",
      "metadata": {},
      "source": [
        "## 3. 리스트 (List)\n",
        "- 여러 데이터를 하나로 묶을 수 있는 자료구조\n",
        "- 생성: [] 또는 list()\n",
        "- 특징: mutable (수정 가능)\n"
      ]
    },
    {
      "cell_type": "code",
      "execution_count": null,
      "id": "dcab2d28",
      "metadata": {},
      "outputs": [],
      "source": [
        "nums = [1, 4, 9, 16, 25]\n",
        "print(nums[0], nums[-1])\n",
        "print(nums[1:3])\n",
        "nums.append(36)\n",
        "print(nums)"
      ]
    },
    {
      "cell_type": "markdown",
      "id": "afdad83f",
      "metadata": {},
      "source": [
        "### 리스트 조작\n",
        "- 수정: list[index] = value\n",
        "- 추가: append, insert\n",
        "- 삭제: del, 슬라이싱 대입, remove\n",
        "- 중첩리스트와 2차원 리스트 가능\n",
        "- 내장 함수: len, sum, min, max\n",
        "- 메소드: sort, reverse\n",
        "- 리스트 내포(list comprehension): [표현식 for 변수 in 반복 if 조건]\n"
      ]
    },
    {
      "cell_type": "code",
      "execution_count": null,
      "id": "f65a518b",
      "metadata": {},
      "outputs": [],
      "source": [
        "letters = ['a','b','c','d']\n",
        "letters[1:3] = ['X','Y']\n",
        "print(letters)\n",
        "letters.sort(reverse=True)\n",
        "print(letters)"
      ]
    },
    {
      "cell_type": "markdown",
      "id": "d253994f",
      "metadata": {},
      "source": [
        "## 4. 튜플 (Tuple)\n",
        "- 리스트와 유사하나 immutable\n",
        "- 생성: (1,2,3) 또는 1,2,3\n",
        "- 요소가 하나일 때는 (1,)\n"
      ]
    },
    {
      "cell_type": "code",
      "execution_count": null,
      "id": "05a663a8",
      "metadata": {},
      "outputs": [],
      "source": [
        "t1 = (1,2,3)\n",
        "print(t1[1], t1[1:3])\n",
        "t2 = ('a','b')\n",
        "print(t1+t2, t1*2)"
      ]
    },
    {
      "cell_type": "markdown",
      "id": "2954e62d",
      "metadata": {},
      "source": [
        "### 튜플 변환과 언패킹\n",
        "- list() 로 리스트 변환 가능\n",
        "- 언패킹: a,b,c = (1,2,3)\n"
      ]
    },
    {
      "cell_type": "markdown",
      "id": "3545809f",
      "metadata": {},
      "source": [
        "## 5. 딕셔너리 (Dictionary)\n",
        "- key:value 쌍으로 데이터 저장\n",
        "- key: 불변형 (int, str, tuple), value: 임의형\n"
      ]
    },
    {
      "cell_type": "code",
      "execution_count": null,
      "id": "64edd53d",
      "metadata": {},
      "outputs": [],
      "source": [
        "height = {'Jun':174,'Kim':170,'Lee':165}\n",
        "print(height['Kim'])\n",
        "height['Lee']=180\n",
        "print(height)"
      ]
    },
    {
      "cell_type": "markdown",
      "id": "08b89a42",
      "metadata": {},
      "source": [
        "### 딕셔너리 메소드\n",
        "- keys(), values(), items() → 반복 가능 객체 반환\n",
        "- 요소 제거: pop(key), clear()\n"
      ]
    },
    {
      "cell_type": "markdown",
      "id": "1f455f64",
      "metadata": {},
      "source": [
        "## 6. 집합 (Set)\n",
        "- 중복X, 순서X 자료구조\n",
        "- 생성: {} 또는 set([...])\n"
      ]
    },
    {
      "cell_type": "code",
      "execution_count": null,
      "id": "33b71be7",
      "metadata": {},
      "outputs": [],
      "source": [
        "setA={1,2,3}\n",
        "setB={2,3,4}\n",
        "print(setA&setB, setA|setB, setA-setB)\n",
        "print(setB<setA)"
      ]
    },
    {
      "cell_type": "markdown",
      "id": "0e606323",
      "metadata": {},
      "source": [
        "### 집합 활용\n",
        "- 교집합: &, intersection\n",
        "- 합집합: |, union\n",
        "- 차집합: -, difference\n",
        "- 부분집합 판정: <, issubset\n",
        "- 예제: 로또 번호 생성 (랜덤, 중복X)\n"
      ]
    }
  ],
  "metadata": {
    "kernelspec": {
      "display_name": "Python 3",
      "language": "python",
      "name": "python3"
    },
    "language_info": {
      "name": "python",
      "version": "3.13.7"
    }
  },
  "nbformat": 4,
  "nbformat_minor": 5
}
